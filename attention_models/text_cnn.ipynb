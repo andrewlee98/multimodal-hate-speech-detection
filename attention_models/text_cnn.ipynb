{
 "cells": [
  {
   "cell_type": "code",
   "execution_count": 9,
   "metadata": {},
   "outputs": [],
   "source": [
    "%matplotlib inline\n",
    "from matplotlib import pyplot as plt\n",
    "from tqdm import tqdm\n",
    "import numpy as np\n",
    "import tensorflow as tf\n",
    "import os\n",
    "import pickle\n",
    "import json\n",
    "import cv2\n",
    "import re"
   ]
  },
  {
   "cell_type": "code",
   "execution_count": 10,
   "metadata": {},
   "outputs": [
    {
     "data": {
      "text/plain": [
       "True"
      ]
     },
     "execution_count": 10,
     "metadata": {},
     "output_type": "execute_result"
    }
   ],
   "source": [
    "tf.test.is_gpu_available()"
   ]
  },
  {
   "cell_type": "code",
   "execution_count": 11,
   "metadata": {},
   "outputs": [
    {
     "name": "stdout",
     "output_type": "stream",
     "text": [
      "Length of Tweet Dictionary: 149823\n",
      "Number of Images: 150000\n",
      "Number of Image Texts: 59252\n"
     ]
    }
   ],
   "source": [
    "# create giant dictionary for all data\n",
    "data_dir = '../mmhs150k/'\n",
    "model_dir = '../fcm_replication/models/'\n",
    "\n",
    "# load data and print sizes\n",
    "tweet_dict = json.load(open(data_dir + 'MMHS150K_GT.json', 'r'))\n",
    "print('Length of Tweet Dictionary:', len(tweet_dict))\n",
    "print('Number of Images:', len(os.listdir(data_dir + 'img_resized')))\n",
    "print('Number of Image Texts:', len(os.listdir(data_dir + 'img_txt')))"
   ]
  },
  {
   "cell_type": "code",
   "execution_count": 12,
   "metadata": {},
   "outputs": [
    {
     "name": "stdout",
     "output_type": "stream",
     "text": [
      "<user> <user> nigga <allcaps>   <repeat>  did <allcaps>  you <allcaps>  not <allcaps>  hear <allcaps>  the <allcaps>  chris <allcaps>  brown <allcaps>  song <allcaps> ! <repeat> <url>\n",
      "<smile> <smile> <smile> <hashtag>  hello world <hashtag> helloworld <hashtag>  hello\n"
     ]
    }
   ],
   "source": [
    "# method for cleaning text like in https://nlp.stanford.edu/projects/glove/preprocess-twitter.rb\n",
    "def hashtag(text):\n",
    "    hashtag_body = text.group()[1:]\n",
    "    if hashtag_body.isupper(): return \"<hashtag> {} \".format(hashtag_body.lower())\n",
    "    else: return ' '.join([\"<hashtag>\"] + [re.sub(r\"([A-Z])\",r\" \\1\", hashtag_body, flags=re.MULTILINE | re.DOTALL)])\n",
    "\n",
    "def allcaps(text): return text.group().lower() + ' <allcaps> '    \n",
    "\n",
    "def clean_tweet_text(t):\n",
    "    eyes = r'[8:=;]'\n",
    "    nose = r\"['`\\-]?\"\n",
    "    \n",
    "    t = re.sub(r'https?:\\/\\/\\S+\\b|www\\.(\\w+\\.)+\\S*', '<url>', t)\n",
    "    t = re.sub(r'@\\w+', '<user>', t)\n",
    "    t = re.sub(r'{}{}[)dD]+|[)dD]+{}{}'.format(eyes, nose, nose, eyes), '<smile>', t)\n",
    "    t = re.sub(r'{}{}p+\".format(eyes, nose)', '<lolface>', t)\n",
    "    t = re.sub(r'{}{}\\(+|\\)+{}{}'.format(eyes, nose, nose, eyes), '<sadface>', t)\n",
    "    t = re.sub(r'{}{}[\\/|l*]'.format(eyes, nose), '<neutralface>', t)\n",
    "    t = re.sub(r'/', ' / ', t)\n",
    "    t = re.sub(r'<3','<heart>', t)\n",
    "    t = re.sub(r'[-+]?[.\\d]*[\\d]+[:,.\\d]*', '<number>', t)\n",
    "    t = re.sub(r'#\\S+', hashtag, t)\n",
    "    t = re.sub(r'([!?.]){2,}', r'\\1 <repeat>', t)\n",
    "    t = re.sub(r'\\b(\\S*?)(.)\\2{2,}\\b', r'\\1\\2 <elong>', t)\n",
    "    t = re.sub(r'([A-Z]){2,}', allcaps, t)\n",
    "    t = re.sub(r'{}'.format(r'[\\\".,-;&:]'), ' ', t)\n",
    "    return t.lower()\n",
    "    \n",
    "print(clean_tweet_text('@SLAAATTTTT @AINTSHlTLAUGHS NIGGA...  DID YOU NOT HEAR THE CHRIS BROWN SONG?!?!?! https://t.co/1hwQMRczOw'))\n",
    "print(clean_tweet_text(':) :-) 8) #HelloWorld #helloworld #Hello'))"
   ]
  },
  {
   "cell_type": "code",
   "execution_count": 13,
   "metadata": {},
   "outputs": [
    {
     "name": "stdout",
     "output_type": "stream",
     "text": [
      "Train data len: 134823\n",
      "Val data len: 5000\n",
      "Test data len: 10000\n"
     ]
    }
   ],
   "source": [
    "# initialize data dictionary {id: (tweet text, label)}\n",
    "\n",
    "def get_data_list(path):\n",
    "    data = []\n",
    "    for id in open(data_dir + path, 'r').read().splitlines():\n",
    "\n",
    "        # process text (tweet special tokens)\n",
    "        text = tweet_dict[id]['tweet_text']\n",
    "        text = clean_tweet_text(text)\n",
    "\n",
    "        # get majority vote label\n",
    "        binary_labels = [1 if n > 0 else 0 for n in tweet_dict[id]['labels']]\n",
    "        label = 1 if sum(binary_labels)/len(tweet_dict[id]['labels']) > 0.5 else 0\n",
    "\n",
    "        # save to list\n",
    "        data.append((text, label))\n",
    "\n",
    "    return data\n",
    "    \n",
    "train_data = get_data_list('splits/train_ids.txt')\n",
    "val_data = get_data_list('splits/val_ids.txt')\n",
    "test_data = get_data_list('splits/test_ids.txt')\n",
    "print('Train data len:', len(train_data))\n",
    "print('Val data len:', len(val_data))\n",
    "print('Test data len:', len(test_data))"
   ]
  },
  {
   "cell_type": "code",
   "execution_count": 59,
   "metadata": {},
   "outputs": [
    {
     "name": "stdout",
     "output_type": "stream",
     "text": [
      "Longest training sequence length: 55\n",
      "Found 75650 unique tokens.\n",
      "Shape of data tensor: (134823, 50)\n",
      "Shape of label tensor: (134823,)\n"
     ]
    }
   ],
   "source": [
    "# make the dataset\n",
    "from tensorflow.keras.preprocessing.text import Tokenizer\n",
    "from tensorflow.keras.preprocessing.sequence import pad_sequences\n",
    "\n",
    "MAX_NUMBER_OF_WORDS = 20000\n",
    "MAX_SEQ_LEN = 50\n",
    "\n",
    "# training\n",
    "texts, labels = zip(*train_data)\n",
    "print('Longest training sequence length:', max([len(t.split()) for t in texts]))\n",
    "\n",
    "tokenizer = pickle.load(open(model_dir + 'tokenizer.pkl', 'rb')) # use same tokenizer from LSTM\n",
    "tokenizer.fit_on_texts(texts)\n",
    "sequences = tokenizer.texts_to_sequences(texts)\n",
    "\n",
    "word_index = tokenizer.word_index\n",
    "print('Found %s unique tokens.' % len(word_index))\n",
    "\n",
    "x_train = pad_sequences(sequences, maxlen=MAX_SEQ_LEN)\n",
    "\n",
    "y_train = np.asarray(labels)\n",
    "print('Shape of data tensor:', x_train.shape)\n",
    "print('Shape of label tensor:', y_train.shape)\n",
    "\n",
    "# validation\n",
    "val_texts, val_labels = zip(*val_data)\n",
    "\n",
    "val_sequences = tokenizer.texts_to_sequences(val_texts) # apply train tokenizer\n",
    "x_val = pad_sequences(val_sequences, maxlen=MAX_SEQ_LEN)\n",
    "y_val = np.asarray(val_labels)"
   ]
  },
  {
   "cell_type": "code",
   "execution_count": 60,
   "metadata": {},
   "outputs": [
    {
     "name": "stdout",
     "output_type": "stream",
     "text": [
      "thats  what u call a redneck lol <url> [539, 36, 59, 148, 5, 77, 129, 1]\n",
      "fuck my pussy chaturbate cut fingering happy tugs hot cunt tyra misoux switzerland   <url> [41, 12, 201, 19835, 529, 1009, 126, 267, 19, 13359, 1]\n"
     ]
    }
   ],
   "source": [
    "# testing that the sequences are being build correctly\n",
    "print(texts[0], sequences[0])\n",
    "print(val_texts[0], val_sequences[0])\n",
    "# print(tokenizer.get_config()['index_word'])"
   ]
  },
  {
   "cell_type": "code",
   "execution_count": 61,
   "metadata": {},
   "outputs": [],
   "source": [
    "# embedding layer\n",
    "from tensorflow.keras.layers import Embedding\n",
    "EMBEDDING_DIM = 100\n",
    "\n",
    "# map word to embedding\n",
    "embeddings_index = {}\n",
    "for line in open('../glove.twitter.27B.100d.txt'):\n",
    "    values = line.split()\n",
    "    word = values[0]\n",
    "    embeddings_index[word] = np.asarray(values[1:], dtype='float32')\n",
    "\n",
    "# create embedding matrix (words without embeddings get zero embeddings)\n",
    "embedding_matrix = np.zeros((len(word_index) + 1, EMBEDDING_DIM))\n",
    "for word, i in word_index.items():\n",
    "    embedding_vector = embeddings_index.get(word)\n",
    "    if embedding_vector is not None: embedding_matrix[i] = embedding_vector\n",
    "\n",
    "embedding_layer = Embedding(len(word_index) + 1,\n",
    "                            EMBEDDING_DIM,\n",
    "                            weights=[embedding_matrix],\n",
    "                            input_length=MAX_SEQ_LEN,\n",
    "                            trainable=False)"
   ]
  },
  {
   "cell_type": "code",
   "execution_count": 62,
   "metadata": {},
   "outputs": [
    {
     "name": "stdout",
     "output_type": "stream",
     "text": [
      "Model: \"sequential_10\"\n",
      "_________________________________________________________________\n",
      "Layer (type)                 Output Shape              Param #   \n",
      "=================================================================\n",
      "embedding_4 (Embedding)      (None, 50, 100)           7565100   \n",
      "_________________________________________________________________\n",
      "dense_39 (Dense)             (None, 50, 100)           10100     \n",
      "_________________________________________________________________\n",
      "dense_40 (Dense)             (None, 50, 100)           10100     \n",
      "_________________________________________________________________\n",
      "dropout_9 (Dropout)          (None, 50, 100)           0         \n",
      "_________________________________________________________________\n",
      "conv1d_8 (Conv1D)            (None, 46, 100)           50100     \n",
      "_________________________________________________________________\n",
      "global_max_pooling1d_8 (Glob (None, 100)               0         \n",
      "_________________________________________________________________\n",
      "dropout_10 (Dropout)         (None, 100)               0         \n",
      "_________________________________________________________________\n",
      "dense_41 (Dense)             (None, 128)               12928     \n",
      "_________________________________________________________________\n",
      "dense_42 (Dense)             (None, 128)               16512     \n",
      "_________________________________________________________________\n",
      "dense_43 (Dense)             (None, 1)                 129       \n",
      "=================================================================\n",
      "Total params: 7,664,969\n",
      "Trainable params: 99,869\n",
      "Non-trainable params: 7,565,100\n",
      "_________________________________________________________________\n",
      "None\n"
     ]
    }
   ],
   "source": [
    "# validation on validation set\n",
    "from tensorflow.keras.layers import Input, LSTM, Dense, Dropout, GlobalMaxPooling1D, Conv1D\n",
    "from tensorflow.keras import Sequential\n",
    "from tensorflow.keras.optimizers import Adam\n",
    "\n",
    "model = Sequential()\n",
    "model.add(embedding_layer)\n",
    "\n",
    "# apply word-level MLP (Dense works on last dimension)\n",
    "model.add(Dense(100, activation='relu'))\n",
    "model.add(Dense(100, activation='relu'))\n",
    "model.add(Dropout(0.5))\n",
    "\n",
    "# 1D conv\n",
    "model.add(Conv1D(filters=100, kernel_size=5))\n",
    "\n",
    "# max pool and tanh\n",
    "model.add(GlobalMaxPooling1D())\n",
    "\n",
    "model.add(Dropout(0.2))\n",
    "model.add(Dense(128, activation='sigmoid'))\n",
    "model.add(Dense(128, activation='sigmoid'))\n",
    "model.add(Dense(1, activation='sigmoid'))\n",
    "\n",
    "model.compile(loss='binary_crossentropy', optimizer='adam', metrics=['accuracy'])\n",
    "print(model.summary())"
   ]
  },
  {
   "cell_type": "code",
   "execution_count": 63,
   "metadata": {
    "scrolled": true
   },
   "outputs": [
    {
     "name": "stdout",
     "output_type": "stream",
     "text": [
      "Train on 134823 samples, validate on 5000 samples\n",
      "Epoch 1/25\n",
      "134823/134823 [==============================] - 49s 362us/sample - loss: 0.4740 - accuracy: 0.7865 - val_loss: 0.8030 - val_accuracy: 0.5836\n",
      "Epoch 2/25\n",
      "134823/134823 [==============================] - 48s 353us/sample - loss: 0.4657 - accuracy: 0.7889 - val_loss: 0.7590 - val_accuracy: 0.5968\n",
      "Epoch 3/25\n",
      "134823/134823 [==============================] - 47s 350us/sample - loss: 0.4638 - accuracy: 0.7905 - val_loss: 0.7704 - val_accuracy: 0.5874\n",
      "Epoch 4/25\n",
      "134823/134823 [==============================] - 48s 354us/sample - loss: 0.4621 - accuracy: 0.7914 - val_loss: 0.7477 - val_accuracy: 0.5834\n",
      "Epoch 5/25\n",
      "134823/134823 [==============================] - 48s 355us/sample - loss: 0.4608 - accuracy: 0.7928 - val_loss: 0.7195 - val_accuracy: 0.6264\n",
      "Epoch 6/25\n",
      "134823/134823 [==============================] - 47s 349us/sample - loss: 0.4600 - accuracy: 0.7928 - val_loss: 0.7477 - val_accuracy: 0.6146\n",
      "Epoch 7/25\n",
      "134823/134823 [==============================] - 47s 349us/sample - loss: 0.4592 - accuracy: 0.7932 - val_loss: 0.7397 - val_accuracy: 0.6024\n",
      "Epoch 8/25\n",
      "134823/134823 [==============================] - 47s 348us/sample - loss: 0.4578 - accuracy: 0.7942 - val_loss: 0.7329 - val_accuracy: 0.6082\n",
      "Epoch 9/25\n",
      "134823/134823 [==============================] - 47s 349us/sample - loss: 0.4571 - accuracy: 0.7954 - val_loss: 0.7310 - val_accuracy: 0.6334\n",
      "Epoch 10/25\n",
      "134823/134823 [==============================] - 48s 354us/sample - loss: 0.4560 - accuracy: 0.7955 - val_loss: 0.7086 - val_accuracy: 0.6334\n",
      "Epoch 11/25\n",
      "134823/134823 [==============================] - 47s 350us/sample - loss: 0.4552 - accuracy: 0.7952 - val_loss: 0.7542 - val_accuracy: 0.6102\n",
      "Epoch 12/25\n",
      "134823/134823 [==============================] - 47s 349us/sample - loss: 0.4544 - accuracy: 0.7957 - val_loss: 0.7578 - val_accuracy: 0.5976\n",
      "Epoch 13/25\n",
      "134823/134823 [==============================] - 47s 349us/sample - loss: 0.4536 - accuracy: 0.7963 - val_loss: 0.7293 - val_accuracy: 0.6348\n",
      "Epoch 14/25\n",
      "134823/134823 [==============================] - 47s 348us/sample - loss: 0.4527 - accuracy: 0.7970 - val_loss: 0.7656 - val_accuracy: 0.5974\n",
      "Epoch 15/25\n",
      "134823/134823 [==============================] - 47s 349us/sample - loss: 0.4520 - accuracy: 0.7981 - val_loss: 0.7642 - val_accuracy: 0.5926\n",
      "Epoch 16/25\n",
      "134823/134823 [==============================] - 47s 348us/sample - loss: 0.4512 - accuracy: 0.7974 - val_loss: 0.7304 - val_accuracy: 0.6338\n",
      "Epoch 17/25\n",
      "134823/134823 [==============================] - 47s 348us/sample - loss: 0.4509 - accuracy: 0.7981 - val_loss: 0.7521 - val_accuracy: 0.6098\n",
      "Epoch 18/25\n",
      "134823/134823 [==============================] - 47s 348us/sample - loss: 0.4503 - accuracy: 0.7981 - val_loss: 0.7735 - val_accuracy: 0.6144\n",
      "Epoch 19/25\n",
      "134823/134823 [==============================] - 47s 349us/sample - loss: 0.4489 - accuracy: 0.7989 - val_loss: 0.7863 - val_accuracy: 0.6010\n",
      "Epoch 20/25\n",
      "134823/134823 [==============================] - 47s 348us/sample - loss: 0.4482 - accuracy: 0.7986 - val_loss: 0.7685 - val_accuracy: 0.6086\n",
      "Epoch 21/25\n",
      "134823/134823 [==============================] - 47s 348us/sample - loss: 0.4481 - accuracy: 0.7994 - val_loss: 0.7539 - val_accuracy: 0.5960\n",
      "Epoch 22/25\n",
      "134823/134823 [==============================] - 47s 348us/sample - loss: 0.4473 - accuracy: 0.7995 - val_loss: 0.7774 - val_accuracy: 0.6096\n",
      "Epoch 23/25\n",
      "134823/134823 [==============================] - 47s 348us/sample - loss: 0.4466 - accuracy: 0.7994 - val_loss: 0.7782 - val_accuracy: 0.6094\n",
      "Epoch 24/25\n",
      "134823/134823 [==============================] - 47s 349us/sample - loss: 0.4467 - accuracy: 0.8005 - val_loss: 0.7678 - val_accuracy: 0.6206\n",
      "Epoch 25/25\n",
      "134823/134823 [==============================] - 47s 347us/sample - loss: 0.4456 - accuracy: 0.8012 - val_loss: 0.7661 - val_accuracy: 0.6260\n"
     ]
    }
   ],
   "source": [
    "from tensorflow.keras.callbacks import ModelCheckpoint\n",
    "\n",
    "mcp_save = ModelCheckpoint(model_dir + 'best_text_cnn.h5', \n",
    "                           save_best_only=True, \n",
    "                           monitor='val_loss', \n",
    "                           mode='min', \n",
    "                           save_weights_only=True)\n",
    "\n",
    "\n",
    "history = model.fit(x_train, y_train, epochs=25, batch_size=100, \n",
    "                    validation_data=(x_val, y_val), callbacks=[mcp_save])"
   ]
  },
  {
   "cell_type": "code",
   "execution_count": 64,
   "metadata": {},
   "outputs": [
    {
     "data": {
      "image/png": "[encoded data removed]",
      "text/plain": [
       "<Figure size 432x288 with 1 Axes>"
      ]
     },
     "metadata": {
      "needs_background": "light"
     },
     "output_type": "display_data"
    }
   ],
   "source": [
    "%matplotlib inline\n",
    "plt.plot(history.history['val_accuracy'], label='val acc')\n",
    "plt.plot(history.history['accuracy'], label='train acc')\n",
    "plt.xlabel('epoch')\n",
    "plt.ylabel('accuracy')\n",
    "plt.title('accuracy over training epoch')\n",
    "plt.legend()\n",
    "plt.show()"
   ]
  },
  {
   "cell_type": "code",
   "execution_count": 65,
   "metadata": {},
   "outputs": [],
   "source": [
    "model.load_weights(model_dir + 'best_text_cnn.h5')"
   ]
  },
  {
   "cell_type": "code",
   "execution_count": 66,
   "metadata": {},
   "outputs": [
    {
     "name": "stdout",
     "output_type": "stream",
     "text": [
      "Test AUROC: 0.7286688\n",
      "Test acc: 0.6289\n",
      "Test F1: 0.48736013261500205\n",
      "Test Precision: 0.7878517195176418\n",
      "Test Recall: 0.3528\n"
     ]
    }
   ],
   "source": [
    "# test\n",
    "from sklearn.metrics import roc_auc_score, f1_score, precision_score, recall_score, accuracy_score\n",
    "\n",
    "test_texts, test_labels = zip(*test_data)\n",
    "\n",
    "test_sequences = tokenizer.texts_to_sequences(test_texts) # apply train tokenizer\n",
    "x_test = pad_sequences(test_sequences, maxlen=MAX_SEQ_LEN)\n",
    "y_test = np.asarray(test_labels)\n",
    "\n",
    "# get AUROC\n",
    "preds = model.predict(x_test)\n",
    "print('Test AUROC:', roc_auc_score(y_test, preds))\n",
    "\n",
    "# get loss and acc\n",
    "preds_bin = np.array(preds)\n",
    "preds_bin[preds >= 0.5] = 1\n",
    "preds_bin[preds < 0.5] = 0\n",
    "print('Test acc:', accuracy_score(y_test, preds_bin))\n",
    "\n",
    "# get F1\n",
    "print('Test F1:', f1_score(y_test, preds_bin, zero_division=1))\n",
    "print('Test Precision:', precision_score(y_test, preds_bin, zero_division=1))\n",
    "print('Test Recall:', recall_score(y_test, preds_bin, zero_division=1))"
   ]
  },
  {
   "cell_type": "code",
   "execution_count": 67,
   "metadata": {},
   "outputs": [
    {
     "name": "stdout",
     "output_type": "stream",
     "text": [
      "Test acc: 0.6767\n",
      "Test F1: 0.6946254840842543\n",
      "Test Precision: 0.6581349561482012\n",
      "Test Recall: 0.7354\n"
     ]
    }
   ],
   "source": [
    "# accuracy scores with different threshold\n",
    "\n",
    "preds_bin[preds>0.2] = 1\n",
    "preds_bin[preds<=0.2] = 0\n",
    "print('Test acc:', accuracy_score(y_test, preds_bin))\n",
    "print('Test F1:', f1_score(y_test, preds_bin, zero_division=1))\n",
    "print('Test Precision:', precision_score(y_test, preds_bin, zero_division=1))\n",
    "print('Test Recall:', recall_score(y_test, preds_bin, zero_division=1))"
   ]
  },
  {
   "cell_type": "code",
   "execution_count": null,
   "metadata": {},
   "outputs": [],
   "source": []
  },
  {
   "cell_type": "code",
   "execution_count": null,
   "metadata": {},
   "outputs": [],
   "source": []
  },
  {
   "cell_type": "code",
   "execution_count": null,
   "metadata": {},
   "outputs": [],
   "source": []
  }
 ],
 "metadata": {
  "kernelspec": {
   "display_name": "testenv",
   "language": "python",
   "name": "testenv"
  },
  "language_info": {
   "codemirror_mode": {
    "name": "ipython",
    "version": 3
   },
   "file_extension": ".py",
   "mimetype": "text/x-python",
   "name": "python",
   "nbconvert_exporter": "python",
   "pygments_lexer": "ipython3",
   "version": "3.5.3"
  }
 },
 "nbformat": 4,
 "nbformat_minor": 4
}
