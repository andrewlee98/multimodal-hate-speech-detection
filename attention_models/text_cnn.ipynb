{
 "cells": [
  {
   "cell_type": "code",
   "execution_count": 1,
   "metadata": {},
   "outputs": [],
   "source": [
    "%matplotlib inline\n",
    "from matplotlib import pyplot as plt\n",
    "from tqdm import tqdm\n",
    "import numpy as np\n",
    "import tensorflow as tf\n",
    "import os\n",
    "import pickle\n",
    "import json\n",
    "import cv2\n",
    "import re"
   ]
  },
  {
   "cell_type": "code",
   "execution_count": 2,
   "metadata": {},
   "outputs": [
    {
     "data": {
      "text/plain": [
       "True"
      ]
     },
     "execution_count": 2,
     "metadata": {},
     "output_type": "execute_result"
    }
   ],
   "source": [
    "tf.test.is_gpu_available()"
   ]
  },
  {
   "cell_type": "code",
   "execution_count": 3,
   "metadata": {},
   "outputs": [
    {
     "name": "stdout",
     "output_type": "stream",
     "text": [
      "Length of Tweet Dictionary: 149823\n",
      "Number of Images: 150000\n",
      "Number of Image Texts: 59252\n"
     ]
    }
   ],
   "source": [
    "# create giant dictionary for all data\n",
    "data_dir = '../mmhs150k/'\n",
    "model_dir = '../fcm_replication/models/'\n",
    "\n",
    "# load data and print sizes\n",
    "tweet_dict = json.load(open(data_dir + 'MMHS150K_GT.json', 'r'))\n",
    "print('Length of Tweet Dictionary:', len(tweet_dict))\n",
    "print('Number of Images:', len(os.listdir(data_dir + 'img_resized')))\n",
    "print('Number of Image Texts:', len(os.listdir(data_dir + 'img_txt')))"
   ]
  },
  {
   "cell_type": "code",
   "execution_count": 4,
   "metadata": {},
   "outputs": [
    {
     "name": "stdout",
     "output_type": "stream",
     "text": [
      "<user> <user> nigga <allcaps>   <repeat>  did <allcaps>  you <allcaps>  not <allcaps>  hear <allcaps>  the <allcaps>  chris <allcaps>  brown <allcaps>  song <allcaps> ! <repeat> <url>\n",
      "<smile> <smile> <smile> <hashtag>  hello world <hashtag> helloworld <hashtag>  hello\n"
     ]
    }
   ],
   "source": [
    "# method for cleaning text like in https://nlp.stanford.edu/projects/glove/preprocess-twitter.rb\n",
    "def hashtag(text):\n",
    "    hashtag_body = text.group()[1:]\n",
    "    if hashtag_body.isupper(): return \"<hashtag> {} \".format(hashtag_body.lower())\n",
    "    else: return ' '.join([\"<hashtag>\"] + [re.sub(r\"([A-Z])\",r\" \\1\", hashtag_body, flags=re.MULTILINE | re.DOTALL)])\n",
    "\n",
    "def allcaps(text): return text.group().lower() + ' <allcaps> '    \n",
    "\n",
    "def clean_tweet_text(t):\n",
    "    eyes = r'[8:=;]'\n",
    "    nose = r\"['`\\-]?\"\n",
    "    \n",
    "    t = re.sub(r'https?:\\/\\/\\S+\\b|www\\.(\\w+\\.)+\\S*', '<url>', t)\n",
    "    t = re.sub(r'@\\w+', '<user>', t)\n",
    "    t = re.sub(r'{}{}[)dD]+|[)dD]+{}{}'.format(eyes, nose, nose, eyes), '<smile>', t)\n",
    "    t = re.sub(r'{}{}p+\".format(eyes, nose)', '<lolface>', t)\n",
    "    t = re.sub(r'{}{}\\(+|\\)+{}{}'.format(eyes, nose, nose, eyes), '<sadface>', t)\n",
    "    t = re.sub(r'{}{}[\\/|l*]'.format(eyes, nose), '<neutralface>', t)\n",
    "    t = re.sub(r'/', ' / ', t)\n",
    "    t = re.sub(r'<3','<heart>', t)\n",
    "    t = re.sub(r'[-+]?[.\\d]*[\\d]+[:,.\\d]*', '<number>', t)\n",
    "    t = re.sub(r'#\\S+', hashtag, t)\n",
    "    t = re.sub(r'([!?.]){2,}', r'\\1 <repeat>', t)\n",
    "    t = re.sub(r'\\b(\\S*?)(.)\\2{2,}\\b', r'\\1\\2 <elong>', t)\n",
    "    t = re.sub(r'([A-Z]){2,}', allcaps, t)\n",
    "    t = re.sub(r'{}'.format(r'[\\\".,-;&:]'), ' ', t)\n",
    "    return t.lower()\n",
    "    \n",
    "print(clean_tweet_text('@SLAAATTTTT @AINTSHlTLAUGHS NIGGA...  DID YOU NOT HEAR THE CHRIS BROWN SONG?!?!?! https://t.co/1hwQMRczOw'))\n",
    "print(clean_tweet_text(':) :-) 8) #HelloWorld #helloworld #Hello'))"
   ]
  },
  {
   "cell_type": "code",
   "execution_count": 5,
   "metadata": {},
   "outputs": [
    {
     "name": "stdout",
     "output_type": "stream",
     "text": [
      "Train data len: 134823\n",
      "Val data len: 5000\n",
      "Test data len: 10000\n"
     ]
    }
   ],
   "source": [
    "# initialize data dictionary {id: (tweet text, label)}\n",
    "\n",
    "def get_data_list(path):\n",
    "    data = []\n",
    "    for id in open(data_dir + path, 'r').read().splitlines():\n",
    "\n",
    "        # process text (tweet special tokens)\n",
    "        text = tweet_dict[id]['tweet_text']\n",
    "        text = clean_tweet_text(text)\n",
    "\n",
    "        # get majority vote label\n",
    "        binary_labels = [1 if n > 0 else 0 for n in tweet_dict[id]['labels']]\n",
    "        label = 1 if sum(binary_labels)/len(tweet_dict[id]['labels']) > 0.5 else 0\n",
    "\n",
    "        # save to list\n",
    "        data.append((text, label))\n",
    "\n",
    "    return data\n",
    "    \n",
    "train_data = get_data_list('splits/train_ids.txt')\n",
    "val_data = get_data_list('splits/val_ids.txt')\n",
    "test_data = get_data_list('splits/test_ids.txt')\n",
    "print('Train data len:', len(train_data))\n",
    "print('Val data len:', len(val_data))\n",
    "print('Test data len:', len(test_data))"
   ]
  },
  {
   "cell_type": "code",
   "execution_count": 6,
   "metadata": {},
   "outputs": [
    {
     "name": "stdout",
     "output_type": "stream",
     "text": [
      "Longest training sequence length: 55\n",
      "Found 75650 unique tokens.\n",
      "Shape of data tensor: (134823, 50)\n",
      "Shape of label tensor: (134823,)\n"
     ]
    }
   ],
   "source": [
    "# make the dataset\n",
    "from tensorflow.keras.preprocessing.text import Tokenizer\n",
    "from tensorflow.keras.preprocessing.sequence import pad_sequences\n",
    "\n",
    "MAX_NUMBER_OF_WORDS = 20000\n",
    "MAX_SEQ_LEN = 50\n",
    "\n",
    "# training\n",
    "texts, labels = zip(*train_data)\n",
    "print('Longest training sequence length:', max([len(t.split()) for t in texts]))\n",
    "\n",
    "tokenizer = pickle.load(open(model_dir + 'tokenizer.pkl', 'rb')) # use same tokenizer from LSTM\n",
    "tokenizer.fit_on_texts(texts)\n",
    "sequences = tokenizer.texts_to_sequences(texts)\n",
    "\n",
    "word_index = tokenizer.word_index\n",
    "print('Found %s unique tokens.' % len(word_index))\n",
    "\n",
    "x_train = pad_sequences(sequences, maxlen=MAX_SEQ_LEN)\n",
    "\n",
    "y_train = np.asarray(labels)\n",
    "print('Shape of data tensor:', x_train.shape)\n",
    "print('Shape of label tensor:', y_train.shape)\n",
    "\n",
    "# validation\n",
    "val_texts, val_labels = zip(*val_data)\n",
    "\n",
    "val_sequences = tokenizer.texts_to_sequences(val_texts) # apply train tokenizer\n",
    "x_val = pad_sequences(val_sequences, maxlen=MAX_SEQ_LEN)\n",
    "y_val = np.asarray(val_labels)"
   ]
  },
  {
   "cell_type": "code",
   "execution_count": 7,
   "metadata": {},
   "outputs": [
    {
     "name": "stdout",
     "output_type": "stream",
     "text": [
      "thats  what u call a redneck lol <url> [539, 36, 59, 148, 5, 77, 129, 1]\n",
      "fuck my pussy chaturbate cut fingering happy tugs hot cunt tyra misoux switzerland   <url> [41, 12, 201, 19835, 529, 1009, 126, 267, 19, 13359, 1]\n"
     ]
    }
   ],
   "source": [
    "# testing that the sequences are being build correctly\n",
    "print(texts[0], sequences[0])\n",
    "print(val_texts[0], val_sequences[0])\n",
    "# print(tokenizer.get_config()['index_word'])"
   ]
  },
  {
   "cell_type": "code",
   "execution_count": 8,
   "metadata": {},
   "outputs": [],
   "source": [
    "# embedding layer\n",
    "from tensorflow.keras.layers import Embedding\n",
    "EMBEDDING_DIM = 100\n",
    "\n",
    "# map word to embedding\n",
    "embeddings_index = {}\n",
    "for line in open('../glove.twitter.27B.100d.txt'):\n",
    "    values = line.split()\n",
    "    word = values[0]\n",
    "    embeddings_index[word] = np.asarray(values[1:], dtype='float32')\n",
    "\n",
    "# create embedding matrix (words without embeddings get zero embeddings)\n",
    "embedding_matrix = np.zeros((len(word_index) + 1, EMBEDDING_DIM))\n",
    "for word, i in word_index.items():\n",
    "    embedding_vector = embeddings_index.get(word)\n",
    "    if embedding_vector is not None: embedding_matrix[i] = embedding_vector\n",
    "\n",
    "embedding_layer = Embedding(len(word_index) + 1,\n",
    "                            EMBEDDING_DIM,\n",
    "                            weights=[embedding_matrix],\n",
    "                            input_length=MAX_SEQ_LEN,\n",
    "                            trainable=False)"
   ]
  },
  {
   "cell_type": "code",
   "execution_count": 27,
   "metadata": {},
   "outputs": [
    {
     "name": "stdout",
     "output_type": "stream",
     "text": [
      "Model: \"sequential_1\"\n",
      "_________________________________________________________________\n",
      "Layer (type)                 Output Shape              Param #   \n",
      "=================================================================\n",
      "embedding (Embedding)        (None, 50, 100)           7565100   \n",
      "_________________________________________________________________\n",
      "dense_5 (Dense)              (None, 50, 256)           25856     \n",
      "_________________________________________________________________\n",
      "dense_6 (Dense)              (None, 50, 256)           65792     \n",
      "_________________________________________________________________\n",
      "dropout_2 (Dropout)          (None, 50, 256)           0         \n",
      "_________________________________________________________________\n",
      "conv1d_1 (Conv1D)            (None, 46, 256)           327936    \n",
      "_________________________________________________________________\n",
      "global_max_pooling1d_1 (Glob (None, 256)               0         \n",
      "_________________________________________________________________\n",
      "dropout_3 (Dropout)          (None, 256)               0         \n",
      "_________________________________________________________________\n",
      "dense_7 (Dense)              (None, 128)               32896     \n",
      "_________________________________________________________________\n",
      "dense_8 (Dense)              (None, 128)               16512     \n",
      "_________________________________________________________________\n",
      "dense_9 (Dense)              (None, 1)                 129       \n",
      "=================================================================\n",
      "Total params: 8,034,221\n",
      "Trainable params: 469,121\n",
      "Non-trainable params: 7,565,100\n",
      "_________________________________________________________________\n",
      "None\n"
     ]
    }
   ],
   "source": [
    "# validation on validation set\n",
    "from tensorflow.keras.layers import Input, LSTM, Dense, Dropout, GlobalMaxPooling1D, Conv1D\n",
    "from tensorflow.keras import Sequential\n",
    "from tensorflow.keras.optimizers import Adam\n",
    "\n",
    "model = Sequential()\n",
    "model.add(embedding_layer)\n",
    "\n",
    "# apply word-level MLP (Dense works on last dimension)\n",
    "model.add(Dense(256, activation='relu'))\n",
    "model.add(Dense(256, activation='relu'))\n",
    "model.add(Dropout(0.2)) # word level dropout\n",
    "\n",
    "# 1D conv\n",
    "model.add(Conv1D(filters=256, kernel_size=5))\n",
    "\n",
    "# max pool and tanh\n",
    "model.add(GlobalMaxPooling1D())\n",
    "\n",
    "model.add(Dropout(0.2))\n",
    "model.add(Dense(128, activation='sigmoid'))\n",
    "model.add(Dense(128, activation='sigmoid'))\n",
    "model.add(Dense(1, activation='sigmoid'))\n",
    "\n",
    "model.compile(loss='binary_crossentropy', optimizer='adam', metrics=['accuracy'])\n",
    "print(model.summary())"
   ]
  },
  {
   "cell_type": "code",
   "execution_count": 28,
   "metadata": {
    "scrolled": true
   },
   "outputs": [
    {
     "name": "stdout",
     "output_type": "stream",
     "text": [
      "Train on 134823 samples, validate on 5000 samples\n",
      "Epoch 1/32\n",
      "134823/134823 [==============================] - 37s 275us/sample - loss: 0.4719 - accuracy: 0.7876 - val_loss: 0.7299 - val_accuracy: 0.6098\n",
      "Epoch 2/32\n",
      "134823/134823 [==============================] - 35s 257us/sample - loss: 0.4637 - accuracy: 0.7907 - val_loss: 0.7524 - val_accuracy: 0.5768\n",
      "Epoch 3/32\n",
      "134823/134823 [==============================] - 33s 248us/sample - loss: 0.4610 - accuracy: 0.7931 - val_loss: 0.7195 - val_accuracy: 0.6198\n",
      "Epoch 4/32\n",
      "134823/134823 [==============================] - 34s 254us/sample - loss: 0.4589 - accuracy: 0.7949 - val_loss: 0.7619 - val_accuracy: 0.5872\n",
      "Epoch 5/32\n",
      "134823/134823 [==============================] - 34s 256us/sample - loss: 0.4569 - accuracy: 0.7952 - val_loss: 0.7622 - val_accuracy: 0.6030\n",
      "Epoch 6/32\n",
      "134823/134823 [==============================] - 35s 256us/sample - loss: 0.4539 - accuracy: 0.7968 - val_loss: 0.7379 - val_accuracy: 0.5924\n",
      "Epoch 7/32\n",
      "134823/134823 [==============================] - 33s 243us/sample - loss: 0.4507 - accuracy: 0.7995 - val_loss: 0.8196 - val_accuracy: 0.5782\n",
      "Epoch 8/32\n",
      "134823/134823 [==============================] - 35s 258us/sample - loss: 0.4474 - accuracy: 0.8008 - val_loss: 0.7610 - val_accuracy: 0.6072\n",
      "Epoch 9/32\n",
      "134823/134823 [==============================] - 35s 257us/sample - loss: 0.4435 - accuracy: 0.8035 - val_loss: 0.7635 - val_accuracy: 0.5926\n",
      "Epoch 10/32\n",
      "134823/134823 [==============================] - 34s 253us/sample - loss: 0.4385 - accuracy: 0.8066 - val_loss: 0.7693 - val_accuracy: 0.6106\n",
      "Epoch 11/32\n",
      "134823/134823 [==============================] - 33s 243us/sample - loss: 0.4329 - accuracy: 0.8096 - val_loss: 0.7944 - val_accuracy: 0.5710\n",
      "Epoch 12/32\n",
      "134823/134823 [==============================] - 34s 256us/sample - loss: 0.4278 - accuracy: 0.8136 - val_loss: 0.7782 - val_accuracy: 0.6220\n",
      "Epoch 13/32\n",
      "134823/134823 [==============================] - 35s 256us/sample - loss: 0.4202 - accuracy: 0.8180 - val_loss: 0.8135 - val_accuracy: 0.5990\n",
      "Epoch 14/32\n",
      "134823/134823 [==============================] - 35s 257us/sample - loss: 0.4149 - accuracy: 0.8212 - val_loss: 0.8547 - val_accuracy: 0.5874\n",
      "Epoch 15/32\n",
      "134823/134823 [==============================] - 33s 246us/sample - loss: 0.4087 - accuracy: 0.8237 - val_loss: 0.7983 - val_accuracy: 0.6120\n",
      "Epoch 16/32\n",
      "134823/134823 [==============================] - 34s 249us/sample - loss: 0.4013 - accuracy: 0.8282 - val_loss: 0.8239 - val_accuracy: 0.6166\n",
      "Epoch 17/32\n",
      "134823/134823 [==============================] - 35s 258us/sample - loss: 0.3960 - accuracy: 0.8311 - val_loss: 0.8616 - val_accuracy: 0.6106\n",
      "Epoch 18/32\n",
      "134823/134823 [==============================] - 35s 258us/sample - loss: 0.3902 - accuracy: 0.8337 - val_loss: 0.8400 - val_accuracy: 0.6100\n",
      "Epoch 19/32\n",
      "134823/134823 [==============================] - 34s 251us/sample - loss: 0.3836 - accuracy: 0.8367 - val_loss: 0.8504 - val_accuracy: 0.6068\n",
      "Epoch 20/32\n",
      "134823/134823 [==============================] - 34s 252us/sample - loss: 0.3786 - accuracy: 0.8394 - val_loss: 0.8547 - val_accuracy: 0.5998\n",
      "Epoch 21/32\n",
      "134823/134823 [==============================] - 35s 258us/sample - loss: 0.3726 - accuracy: 0.8425 - val_loss: 0.9058 - val_accuracy: 0.5988\n",
      "Epoch 22/32\n",
      "134823/134823 [==============================] - 35s 257us/sample - loss: 0.3679 - accuracy: 0.8448 - val_loss: 0.8653 - val_accuracy: 0.6078\n",
      "Epoch 23/32\n",
      "134823/134823 [==============================] - 35s 258us/sample - loss: 0.3622 - accuracy: 0.8471 - val_loss: 0.8673 - val_accuracy: 0.6076\n",
      "Epoch 24/32\n",
      "134823/134823 [==============================] - 32s 239us/sample - loss: 0.3576 - accuracy: 0.8488 - val_loss: 0.9186 - val_accuracy: 0.6020\n",
      "Epoch 25/32\n",
      "134823/134823 [==============================] - 35s 259us/sample - loss: 0.3542 - accuracy: 0.8504 - val_loss: 0.9277 - val_accuracy: 0.6030\n",
      "Epoch 26/32\n",
      "134823/134823 [==============================] - 35s 258us/sample - loss: 0.3469 - accuracy: 0.8538 - val_loss: 0.9151 - val_accuracy: 0.6068\n",
      "Epoch 27/32\n",
      "134823/134823 [==============================] - 32s 240us/sample - loss: 0.3387 - accuracy: 0.8573 - val_loss: 1.0761 - val_accuracy: 0.5960\n",
      "Epoch 29/32\n",
      "134823/134823 [==============================] - 35s 259us/sample - loss: 0.3352 - accuracy: 0.8594 - val_loss: 1.0158 - val_accuracy: 0.6018\n",
      "Epoch 30/32\n",
      "134823/134823 [==============================] - 35s 258us/sample - loss: 0.3313 - accuracy: 0.8596 - val_loss: 0.9998 - val_accuracy: 0.5972\n",
      "Epoch 31/32\n",
      "134823/134823 [==============================] - 33s 244us/sample - loss: 0.3267 - accuracy: 0.8623 - val_loss: 1.0131 - val_accuracy: 0.6072\n",
      "Epoch 32/32\n",
      "134823/134823 [==============================] - 33s 248us/sample - loss: 0.3245 - accuracy: 0.8625 - val_loss: 1.0161 - val_accuracy: 0.6006\n"
     ]
    }
   ],
   "source": [
    "from tensorflow.keras.callbacks import ModelCheckpoint\n",
    "\n",
    "mcp_save = ModelCheckpoint(model_dir + 'best_text_cnn256.h5', \n",
    "                           save_best_only=True, \n",
    "                           monitor='val_loss', \n",
    "                           mode='min', \n",
    "                           save_weights_only=True)\n",
    "\n",
    "\n",
    "history = model.fit(x_train, y_train, epochs=32, batch_size=100, \n",
    "                    validation_data=(x_val, y_val), callbacks=[mcp_save])"
   ]
  },
  {
   "cell_type": "code",
   "execution_count": 29,
   "metadata": {},
   "outputs": [
    {
     "data": {
      "image/png": "[encoded data removed]",
      "text/plain": [
       "<Figure size 432x288 with 1 Axes>"
      ]
     },
     "metadata": {
      "needs_background": "light"
     },
     "output_type": "display_data"
    }
   ],
   "source": [
    "%matplotlib inline\n",
    "plt.plot(history.history['val_accuracy'], label='val acc')\n",
    "plt.plot(history.history['accuracy'], label='train acc')\n",
    "plt.xlabel('epoch')\n",
    "plt.ylabel('accuracy')\n",
    "plt.title('accuracy over training epoch')\n",
    "plt.legend()\n",
    "plt.show()"
   ]
  },
  {
   "cell_type": "code",
   "execution_count": 32,
   "metadata": {},
   "outputs": [],
   "source": [
    "model.load_weights(model_dir + 'best_text_cnn256.h5')"
   ]
  },
  {
   "cell_type": "code",
   "execution_count": 33,
   "metadata": {},
   "outputs": [
    {
     "name": "stdout",
     "output_type": "stream",
     "text": [
      "Test AUROC: 0.72956416\n",
      "Test acc: 0.6234\n",
      "Test F1: 0.4650568181818182\n",
      "Test Precision: 0.8024509803921569\n",
      "Test Recall: 0.3274\n"
     ]
    }
   ],
   "source": [
    "# test\n",
    "from sklearn.metrics import roc_auc_score, f1_score, precision_score, recall_score, accuracy_score\n",
    "\n",
    "test_texts, test_labels = zip(*test_data)\n",
    "\n",
    "test_sequences = tokenizer.texts_to_sequences(test_texts) # apply train tokenizer\n",
    "x_test = pad_sequences(test_sequences, maxlen=MAX_SEQ_LEN)\n",
    "y_test = np.asarray(test_labels)\n",
    "\n",
    "# get AUROC\n",
    "preds = model.predict(x_test)\n",
    "print('Test AUROC:', roc_auc_score(y_test, preds))\n",
    "\n",
    "# get loss and acc\n",
    "preds_bin = np.array(preds)\n",
    "preds_bin[preds >= 0.5] = 1\n",
    "preds_bin[preds < 0.5] = 0\n",
    "print('Test acc:', accuracy_score(y_test, preds_bin))\n",
    "\n",
    "# get F1\n",
    "print('Test F1:', f1_score(y_test, preds_bin, zero_division=1))\n",
    "print('Test Precision:', precision_score(y_test, preds_bin, zero_division=1))\n",
    "print('Test Recall:', recall_score(y_test, preds_bin, zero_division=1))"
   ]
  },
  {
   "cell_type": "code",
   "execution_count": 34,
   "metadata": {},
   "outputs": [
    {
     "name": "stdout",
     "output_type": "stream",
     "text": [
      "Test acc: 0.6753\n",
      "Test F1: 0.6668718580075921\n",
      "Test Precision: 0.6846429323783442\n",
      "Test Recall: 0.65\n"
     ]
    }
   ],
   "source": [
    "# accuracy scores with different threshold\n",
    "\n",
    "preds_bin[preds>0.25] = 1\n",
    "preds_bin[preds<=0.25] = 0\n",
    "print('Test acc:', accuracy_score(y_test, preds_bin))\n",
    "print('Test F1:', f1_score(y_test, preds_bin, zero_division=1))\n",
    "print('Test Precision:', precision_score(y_test, preds_bin, zero_division=1))\n",
    "print('Test Recall:', recall_score(y_test, preds_bin, zero_division=1))"
   ]
  },
  {
   "cell_type": "code",
   "execution_count": 35,
   "metadata": {},
   "outputs": [],
   "source": [
    "model.save(model_dir + 'best_text_cnn256_model.h5')"
   ]
  },
  {
   "cell_type": "code",
   "execution_count": null,
   "metadata": {},
   "outputs": [],
   "source": []
  },
  {
   "cell_type": "code",
   "execution_count": null,
   "metadata": {},
   "outputs": [],
   "source": []
  }
 ],
 "metadata": {
  "kernelspec": {
   "display_name": "testenv",
   "language": "python",
   "name": "testenv"
  },
  "language_info": {
   "codemirror_mode": {
    "name": "ipython",
    "version": 3
   },
   "file_extension": ".py",
   "mimetype": "text/x-python",
   "name": "python",
   "nbconvert_exporter": "python",
   "pygments_lexer": "ipython3",
   "version": "3.5.3"
  }
 },
 "nbformat": 4,
 "nbformat_minor": 4
}
