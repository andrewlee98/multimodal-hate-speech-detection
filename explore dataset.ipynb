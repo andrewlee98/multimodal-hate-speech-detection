{
 "cells": [
  {
   "cell_type": "code",
   "execution_count": 1,
   "metadata": {},
   "outputs": [],
   "source": [
    "%matplotlib inline\n",
    "from matplotlib import pyplot as plt\n",
    "from tqdm import tqdm\n",
    "import numpy as np\n",
    "import seaborn as sns\n",
    "from collections import defaultdict\n",
    "import os\n",
    "import pickle\n",
    "import json\n",
    "import cv2"
   ]
  },
  {
   "cell_type": "code",
   "execution_count": 2,
   "metadata": {},
   "outputs": [
    {
     "name": "stdout",
     "output_type": "stream",
     "text": [
      "Length of Tweet Dictionary: 149823\n"
     ]
    }
   ],
   "source": [
    "# create giant dictionary for all data\n",
    "data_dir = 'mmhs150k/'\n",
    "\n",
    "# load data and print sizes\n",
    "tweet_dict = json.load(open(data_dir + 'MMHS150K_GT.json', 'r'))\n",
    "print('Length of Tweet Dictionary:', len(tweet_dict))\n",
    "\n",
    "# initialize data dictionary\n",
    "data_dict = dict()\n",
    "for k, v in tweet_dict.items(): data_dict[k] = {'tweet_text': v['tweet_text'], 'labels': v['labels']}"
   ]
  },
  {
   "cell_type": "code",
   "execution_count": 4,
   "metadata": {},
   "outputs": [
    {
     "name": "stdout",
     "output_type": "stream",
     "text": [
      "Number of Positive Votes: 0 Tweet Count: 57931\n",
      "Number of Positive Votes: 1 Tweet Count: 54923\n",
      "Number of Positive Votes: 2 Tweet Count: 28395\n",
      "Number of Positive Votes: 3 Tweet Count: 8574\n"
     ]
    },
    {
     "data": {
      "image/png": "[encoded data removed]",
      "text/plain": [
       "<Figure size 432x288 with 1 Axes>"
      ]
     },
     "metadata": {
      "needs_background": "light"
     },
     "output_type": "display_data"
    }
   ],
   "source": [
    "# plot disagreements (positive vs negative)\n",
    "vote_dict = defaultdict(lambda: 0)\n",
    "for k, v in data_dict.items():\n",
    "    votes = [0 if vote == 0 else 1 for vote in v['labels']]\n",
    "    vote_dict[sum(votes)] += 1\n",
    "    \n",
    "for k, v in vote_dict.items():\n",
    "    print('Number of Positive Votes:', k, 'Tweet Count:', v)\n",
    "\n",
    "plt.bar([str(x) for x in vote_dict.keys()], vote_dict.values())\n",
    "plt.ylabel('Count (Tweets)')\n",
    "plt.xlabel('Number of Positive Votes')\n",
    "plt.title('Distribution of Number of Positive Votes for All Tweets')\n",
    "plt.show()"
   ]
  },
  {
   "cell_type": "code",
   "execution_count": 5,
   "metadata": {},
   "outputs": [
    {
     "name": "stdout",
     "output_type": "stream",
     "text": [
      "149823\n"
     ]
    }
   ],
   "source": [
    "print(sum(vote_dict.values()))"
   ]
  },
  {
   "cell_type": "code",
   "execution_count": null,
   "metadata": {},
   "outputs": [],
   "source": []
  }
 ],
 "metadata": {
  "kernelspec": {
   "display_name": "testenv",
   "language": "python",
   "name": "testenv"
  },
  "language_info": {
   "codemirror_mode": {
    "name": "ipython",
    "version": 3
   },
   "file_extension": ".py",
   "mimetype": "text/x-python",
   "name": "python",
   "nbconvert_exporter": "python",
   "pygments_lexer": "ipython3",
   "version": "3.5.3"
  }
 },
 "nbformat": 4,
 "nbformat_minor": 4
}
