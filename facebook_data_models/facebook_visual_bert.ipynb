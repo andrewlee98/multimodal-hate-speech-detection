{
 "cells": [
  {
   "cell_type": "code",
   "execution_count": 1,
   "metadata": {},
   "outputs": [],
   "source": [
    "%matplotlib inline\n",
    "from matplotlib import pyplot as plt\n",
    "from tqdm import tqdm\n",
    "from collections import OrderedDict\n",
    "import numpy as np\n",
    "import tensorflow as tf\n",
    "import os\n",
    "import pickle\n",
    "import json\n",
    "import re\n",
    "from PIL import Image"
   ]
  },
  {
   "cell_type": "code",
   "execution_count": 2,
   "metadata": {},
   "outputs": [
    {
     "data": {
      "text/plain": [
       "True"
      ]
     },
     "execution_count": 2,
     "metadata": {},
     "output_type": "execute_result"
    }
   ],
   "source": [
    "tf.test.is_gpu_available()"
   ]
  },
  {
   "cell_type": "code",
   "execution_count": 3,
   "metadata": {},
   "outputs": [
    {
     "name": "stdout",
     "output_type": "stream",
     "text": [
      "8500\n",
      "500\n",
      "1000\n"
     ]
    }
   ],
   "source": [
    "# create giant dictionary for all data\n",
    "data_dir = '../facebook_challenge_data/'\n",
    "model_dir = 'models/'\n",
    "\n",
    "def get_dict(path):\n",
    "    data_dict = OrderedDict()\n",
    "    jsonl_content = open(path, 'r').read()\n",
    "    data = [json.loads(jline) for jline in jsonl_content.split('\\n')]\n",
    "    for datum in data: data_dict[datum['id']] = datum\n",
    "    return data_dict\n",
    "\n",
    "train_dict = get_dict(data_dir + 'train.jsonl')\n",
    "val_dict = get_dict(data_dir + 'dev.jsonl')\n",
    "test_dict = get_dict(data_dir + 'test.jsonl')\n",
    "\n",
    "print(len(train_dict))\n",
    "print(len(val_dict))\n",
    "print(len(test_dict))"
   ]
  },
  {
   "cell_type": "code",
   "execution_count": 4,
   "metadata": {},
   "outputs": [],
   "source": [
    "from random import randint # for random cropping\n",
    "from tensorflow.keras.preprocessing.sequence import pad_sequences\n",
    "\n",
    "class FBMMDataGenerator(tf.keras.utils.Sequence):\n",
    "    'Generates data for Keras'\n",
    "    def __init__(self, data_dict, tokenizer, pad_len, batch_size=32, dim=(299, 299), \n",
    "                 n_channels=3, shuffle=True, test=False):\n",
    "        'Initialization'\n",
    "        self.dim = dim\n",
    "        self.data_dict = data_dict\n",
    "        self.batch_size = batch_size\n",
    "        self.n_channels = n_channels\n",
    "        self.shuffle = shuffle\n",
    "        self.pad_len = pad_len\n",
    "        self.tokenizer = tokenizer\n",
    "        \n",
    "        # build labels list and id list\n",
    "        self.id_list = list(self.data_dict.keys())\n",
    "        self.img_list = {ID: self.data_dict[ID]['img'] for ID in self.id_list}\n",
    "        if test: self.labels = {ID: 0 for ID in self.id_list}\n",
    "        else: self.labels = {ID: self.data_dict[ID]['label'] for ID in self.id_list}\n",
    "            \n",
    "        # get text dictionary\n",
    "        self.text_dict = self.process_text(self.id_list)\n",
    "        \n",
    "        self.on_epoch_end()\n",
    "        self.classes = [self.labels[self.id_list[i]] for i in self.indexes]\n",
    "\n",
    "    def __len__(self):\n",
    "        'Denotes the number of batches per epoch'\n",
    "        return int(np.floor(len(self.id_list) / self.batch_size)) + 1 # last batch is partial\n",
    "\n",
    "    def __getitem__(self, index):\n",
    "        'Generate one batch of data'\n",
    "        # Generate indexes of the batch\n",
    "        indexes = self.indexes[index*self.batch_size:index*self.batch_size + self.batch_size]\n",
    "        \n",
    "        \n",
    "        # Find list of IDs\n",
    "        id_list_temp = [self.id_list[k] for k in indexes]\n",
    "\n",
    "        # Generate data\n",
    "        X_txt, X_img, y = self.__data_generation(id_list_temp)\n",
    "        \n",
    "        return (X_txt, X_img), y\n",
    "\n",
    "    def on_epoch_end(self):\n",
    "        'Updates indexes after each epoch'\n",
    "        self.indexes = np.arange(len(self.id_list))\n",
    "        if self.shuffle == True:\n",
    "            np.random.shuffle(self.indexes)\n",
    "\n",
    "    def __data_generation(self, id_list_temp):\n",
    "        'Generates data containing batch_size samples' # X : (n_samples, *dim, n_channels)\n",
    "        # Initialization\n",
    "        X_img = np.empty((len(id_list_temp), *self.dim, self.n_channels))\n",
    "        X_txt = np.empty((len(id_list_temp), self.pad_len))\n",
    "        y = np.empty(len(id_list_temp), dtype=int)\n",
    "\n",
    "        # Generate data\n",
    "        for i, ID in enumerate(id_list_temp):\n",
    "            # Store sample\n",
    "            X_img[i,] = self.process_img(data_dir + self.img_list[ID])\n",
    "            X_txt[i,] = self.text_dict[ID]\n",
    "\n",
    "            # Store class\n",
    "            y[i] = self.labels[ID]\n",
    "\n",
    "        return X_txt.astype(int), X_img, y\n",
    "    \n",
    "    def process_img(self, path): # method for getting image\n",
    "        img = Image.open(path)\n",
    "        img.load()\n",
    "        scale_size = int(self.dim[0]) # want cropping\n",
    "        if img.size[0] < img.size[1]: # width greater than height\n",
    "            wpercent = (scale_size/float(img.size[0]))\n",
    "            hsize = int((float(img.size[1])*float(wpercent)))\n",
    "            img = img.resize((scale_size,hsize), Image.ANTIALIAS)\n",
    "        else: # height greater than width\n",
    "            hpercent = (scale_size/float(img.size[1]))\n",
    "            wsize = int((float(img.size[0])*float(hpercent)))\n",
    "            img = img.resize((wsize, scale_size), Image.ANTIALIAS)\n",
    "            \n",
    "        data = np.asarray(img, dtype='uint8')\n",
    "        im = self.augment(data) # apply transformation\n",
    "        \n",
    "        \n",
    "        if im.shape==(self.dim[0], self.dim[1]): im = np.stack((im,)*3, axis=-1) # handle grayscale\n",
    "        if im.shape == (*self.dim, 4): im = im[:,:,:3] # handle weird case\n",
    "        \n",
    "        return tf.keras.applications.vgg16.preprocess_input(im)\n",
    "    \n",
    "    def augment(self, im): # random crop and random mirror\n",
    "        \n",
    "        # random crop\n",
    "        x_max, y_max = im.shape[0], im.shape[1]\n",
    "        x_start, y_start = randint(0, x_max - self.dim[0]), randint(0, y_max - self.dim[1])\n",
    "        im = im[x_start:x_start + self.dim[0], y_start:y_start + self.dim[1]]\n",
    "        \n",
    "        # random mirror\n",
    "        if randint(0,1): im = np.flip(im, axis=1)\n",
    "        \n",
    "        return im\n",
    "    \n",
    "    def process_text(self, id_list):\n",
    "        \n",
    "        # matrix for texts\n",
    "        texts = [self.data_dict[ID]['text'] for ID in id_list]\n",
    "        sequences = [self.tokenizer.encode(text) for text in texts] # make this more efficient...\n",
    "        text_seqs = pad_sequences(sequences, maxlen=self.pad_len)\n",
    "        \n",
    "        id_to_seq = {ID: txt for (ID, txt) in zip(id_list, text_seqs)} # map id to text seq\n",
    "        \n",
    "        return id_to_seq"
   ]
  },
  {
   "cell_type": "code",
   "execution_count": 5,
   "metadata": {},
   "outputs": [],
   "source": [
    "from transformers import AutoConfig, AutoModelForSequenceClassification, AutoTokenizer, TFRobertaModel\n",
    "# tokenizer = AutoTokenizer.from_pretrained('roberta-base')\n",
    "tokenizer = AutoTokenizer.from_pretrained('bert-base-uncased')\n",
    "max_len = 100\n",
    "scale_factor = 3\n",
    "\n",
    "# create data generators\n",
    "train_gen = FBMMDataGenerator(data_dict=train_dict,\n",
    "                          tokenizer=tokenizer,\n",
    "                          pad_len=max_len,\n",
    "                          batch_size=8,\n",
    "                          dim=(224*scale_factor, 224*scale_factor),\n",
    "                          n_channels=3,\n",
    "                          shuffle=True)\n",
    "\n",
    "val_gen = FBMMDataGenerator(data_dict=val_dict,\n",
    "                          tokenizer=tokenizer,\n",
    "                          pad_len=max_len,\n",
    "                          batch_size=8,\n",
    "                          dim=(224*scale_factor, 224*scale_factor),\n",
    "                          n_channels=3,\n",
    "                          shuffle=True)"
   ]
  },
  {
   "cell_type": "markdown",
   "metadata": {},
   "source": [
    "# Define model"
   ]
  },
  {
   "cell_type": "code",
   "execution_count": 6,
   "metadata": {},
   "outputs": [
    {
     "name": "stdout",
     "output_type": "stream",
     "text": [
      "ListWrapper([((0, 448), (0, 448)), ((0, 448), (224, 224)), ((0, 448), (448, 0)), ((224, 224), (0, 448)), ((224, 224), (224, 224)), ((224, 224), (448, 0)), ((448, 0), (0, 448)), ((448, 0), (224, 224)), ((448, 0), (448, 0))])\n"
     ]
    }
   ],
   "source": [
    "import transformers\n",
    "\n",
    "from tensorflow.keras import layers\n",
    "\n",
    "class BERT(transformers.TFBertModel):\n",
    "    def __init__(self, config, *inputs, **kwargs):\n",
    "        super(BERT, self).__init__(config, *inputs, **kwargs)\n",
    "        self.bert.call = tf.function(self.bert.call)\n",
    "\n",
    "\n",
    "class MyModel(tf.keras.Model):\n",
    "    \n",
    "    def __init__(self):\n",
    "        super(MyModel, self).__init__()\n",
    "        self.resnet = tf.keras.applications.VGG16(include_top=False, \n",
    "                                                             weights='imagenet', \n",
    "                                                             input_shape=(224, 224, 3))\n",
    "        self.bert = BERT.from_pretrained('bert-base-uncased')\n",
    "        \n",
    "        self.text_embedding = self.bert.get_input_embeddings().word_embeddings\n",
    "        \n",
    "        # handle image\n",
    "        self.crop_ranges = [(0, 224), (224, 448), (448, 672)]\n",
    "        self.croppings = [((xs[0], 672-xs[1]), (ys[0], 672-ys[1]))\n",
    "                          for xs in self.crop_ranges for ys in self.crop_ranges]\n",
    "        print(self.croppings)\n",
    "        self.cropping_layers = [layers.Cropping2D(cropping) for cropping in self.croppings]\n",
    "                                \n",
    "        self.pool = layers.GlobalAveragePooling2D()\n",
    "        self.W_ns = [layers.Dense(self.bert.config.hidden_size) for _ in range(len(self.crop_ranges)**2)]\n",
    "        \n",
    "        self.concat = layers.Concatenate(axis=1)\n",
    "        \n",
    "        self.dropout = layers.Dropout(0.1)\n",
    "        self.denseout = layers.Dense(1, activation='sigmoid')\n",
    "\n",
    "    def call(self, inputs):\n",
    "        text, image = inputs\n",
    "        \n",
    "        # handle image\n",
    "        images = [crop(image) for crop in self.cropping_layers]\n",
    "        # print(1, [image.shape for image in images])\n",
    "        # images = [tf.keras.applications.vgg16.preprocess_input(image) for image in images]\n",
    "        # print(2, [image.shape for image in images])\n",
    "        image_embs = [self.resnet(image) for image in images]\n",
    "        # print(3, [image.shape for image in image_embs])\n",
    "        image_embs = [self.pool(image) for image in image_embs]\n",
    "        # print(4, [image.shape for image in image_embs])\n",
    "        image_embeds = [self.W_ns[i](image_embs[i]) for i in range(len(self.W_ns))]\n",
    "        # print(5, image_embeds[0].shape)\n",
    "        image_emb = tf.keras.backend.stack(image_embeds, axis=1)\n",
    "\n",
    "        \n",
    "        # handle text\n",
    "        text_emb = tf.gather(self.text_embedding, text)\n",
    "        \n",
    "        # concat and feed to bert\n",
    "        concat_emb = self.concat([text_emb, image_emb])\n",
    "        seg_ids = np.concatenate((np.zeros(max_len, dtype=np.int64), \n",
    "                                  np.ones(len(self.crop_ranges)**2, dtype=np.int64)))\n",
    "        bert_encodings = self.bert(inputs={'inputs_embeds': concat_emb,\n",
    "                                                'token_type_ids': seg_ids})[0]\n",
    "        doc_encoding = tf.squeeze(bert_encodings[:, 0:1, :], axis=1)\n",
    "        doc_encoding = self.dropout(doc_encoding)\n",
    "        \n",
    "        output = self.denseout(doc_encoding)\n",
    "        \n",
    "        return output\n",
    "\n",
    "model = MyModel()"
   ]
  },
  {
   "cell_type": "code",
   "execution_count": 7,
   "metadata": {},
   "outputs": [],
   "source": [
    "optimizer = tf.keras.optimizers.Adam(lr=1e-5)\n",
    "model.compile(optimizer=optimizer, loss='binary_crossentropy', metrics=['accuracy', tf.keras.metrics.AUC()])"
   ]
  },
  {
   "cell_type": "code",
   "execution_count": 8,
   "metadata": {},
   "outputs": [
    {
     "name": "stdout",
     "output_type": "stream",
     "text": [
      "Epoch 1/5\n",
      "1062/1063 [============================>.] - ETA: 4s - loss: 0.5941 - accuracy: 0.6680 - auc: 0.6224\n",
      "Epoch 00001: val_auc improved from -inf to 0.64783, saving model to models/best_vis_bert_weights_fb.h5\n",
      "1063/1063 [==============================] - 4416s 4s/step - loss: 0.5943 - accuracy: 0.6680 - auc: 0.6225 - val_loss: 0.8261 - val_accuracy: 0.5280 - val_auc: 0.6478\n",
      "Epoch 2/5\n",
      "1062/1063 [============================>.] - ETA: 4s - loss: 0.5285 - accuracy: 0.7494 - auc: 0.7896\n",
      "Epoch 00002: val_auc improved from 0.64783 to 0.65951, saving model to models/best_vis_bert_weights_fb.h5\n",
      "1063/1063 [==============================] - 4376s 4s/step - loss: 0.5289 - accuracy: 0.7494 - auc: 0.7896 - val_loss: 0.7189 - val_accuracy: 0.5540 - val_auc: 0.6595\n",
      "Epoch 3/5\n",
      "1062/1063 [============================>.] - ETA: 4s - loss: 0.4745 - accuracy: 0.7706 - auc: 0.8400\n",
      "Epoch 00003: val_auc did not improve from 0.65951\n",
      "1063/1063 [==============================] - 4371s 4s/step - loss: 0.4746 - accuracy: 0.7706 - auc: 0.8400 - val_loss: 0.7864 - val_accuracy: 0.5400 - val_auc: 0.6557\n",
      "Epoch 4/5\n",
      "1062/1063 [============================>.] - ETA: 4s - loss: 0.4201 - accuracy: 0.7961 - auc: 0.8830\n",
      "Epoch 00004: val_auc did not improve from 0.65951\n",
      "1063/1063 [==============================] - 4367s 4s/step - loss: 0.4205 - accuracy: 0.7961 - auc: 0.8830 - val_loss: 0.9238 - val_accuracy: 0.5400 - val_auc: 0.6510\n",
      "Epoch 5/5\n",
      "1062/1063 [============================>.] - ETA: 4s - loss: 0.3755 - accuracy: 0.8126 - auc: 0.9063\n",
      "Epoch 00005: val_auc did not improve from 0.65951\n",
      "1063/1063 [==============================] - 4363s 4s/step - loss: 0.3757 - accuracy: 0.8125 - auc: 0.9063 - val_loss: 0.9504 - val_accuracy: 0.5300 - val_auc: 0.6299\n"
     ]
    }
   ],
   "source": [
    "# train model\n",
    "from tensorflow.keras.callbacks import ModelCheckpoint\n",
    "\n",
    "weight_file = 'best_vis_bert_weights_fb.h5'\n",
    "\n",
    "mcp_save = ModelCheckpoint(model_dir + weight_file, \n",
    "                           save_weights_only=True, \n",
    "                           save_best_only=True, \n",
    "                           verbose=1,\n",
    "                           monitor='val_auc', \n",
    "                           mode='max')\n",
    "\n",
    "history = model.fit_generator(train_gen,\n",
    "                    validation_data=val_gen,\n",
    "                    shuffle=True,\n",
    "                    epochs=5,\n",
    "                    callbacks=[mcp_save])"
   ]
  },
  {
   "cell_type": "code",
   "execution_count": 9,
   "metadata": {},
   "outputs": [
    {
     "name": "stdout",
     "output_type": "stream",
     "text": [
      "Model: \"my_model\"\n",
      "_________________________________________________________________\n",
      "Layer (type)                 Output Shape              Param #   \n",
      "=================================================================\n",
      "vgg16 (Model)                (None, 7, 7, 512)         14714688  \n",
      "_________________________________________________________________\n",
      "bert (BERT)                  multiple                  109482240 \n",
      "_________________________________________________________________\n",
      "cropping2d (Cropping2D)      multiple                  0         \n",
      "_________________________________________________________________\n",
      "cropping2d_1 (Cropping2D)    multiple                  0         \n",
      "_________________________________________________________________\n",
      "cropping2d_2 (Cropping2D)    multiple                  0         \n",
      "_________________________________________________________________\n",
      "cropping2d_3 (Cropping2D)    multiple                  0         \n",
      "_________________________________________________________________\n",
      "cropping2d_4 (Cropping2D)    multiple                  0         \n",
      "_________________________________________________________________\n",
      "cropping2d_5 (Cropping2D)    multiple                  0         \n",
      "_________________________________________________________________\n",
      "cropping2d_6 (Cropping2D)    multiple                  0         \n",
      "_________________________________________________________________\n",
      "cropping2d_7 (Cropping2D)    multiple                  0         \n",
      "_________________________________________________________________\n",
      "cropping2d_8 (Cropping2D)    multiple                  0         \n",
      "_________________________________________________________________\n",
      "global_average_pooling2d (Gl multiple                  0         \n",
      "_________________________________________________________________\n",
      "dense (Dense)                multiple                  393984    \n",
      "_________________________________________________________________\n",
      "dense_1 (Dense)              multiple                  393984    \n",
      "_________________________________________________________________\n",
      "dense_2 (Dense)              multiple                  393984    \n",
      "_________________________________________________________________\n",
      "dense_3 (Dense)              multiple                  393984    \n",
      "_________________________________________________________________\n",
      "dense_4 (Dense)              multiple                  393984    \n",
      "_________________________________________________________________\n",
      "dense_5 (Dense)              multiple                  393984    \n",
      "_________________________________________________________________\n",
      "dense_6 (Dense)              multiple                  393984    \n",
      "_________________________________________________________________\n",
      "dense_7 (Dense)              multiple                  393984    \n",
      "_________________________________________________________________\n",
      "dense_8 (Dense)              multiple                  393984    \n",
      "_________________________________________________________________\n",
      "concatenate (Concatenate)    multiple                  0         \n",
      "_________________________________________________________________\n",
      "dropout_37 (Dropout)         multiple                  0         \n",
      "_________________________________________________________________\n",
      "dense_9 (Dense)              multiple                  769       \n",
      "=================================================================\n",
      "Total params: 127,743,553\n",
      "Trainable params: 127,743,553\n",
      "Non-trainable params: 0\n",
      "_________________________________________________________________\n"
     ]
    }
   ],
   "source": [
    "model.summary()"
   ]
  },
  {
   "cell_type": "code",
   "execution_count": 10,
   "metadata": {},
   "outputs": [
    {
     "data": {
      "image/png": "[encoded data removed]",
      "text/plain": [
       "<Figure size 432x288 with 1 Axes>"
      ]
     },
     "metadata": {
      "needs_background": "light"
     },
     "output_type": "display_data"
    },
    {
     "data": {
      "image/png": "[encoded data removed]",
      "text/plain": [
       "<Figure size 432x288 with 1 Axes>"
      ]
     },
     "metadata": {
      "needs_background": "light"
     },
     "output_type": "display_data"
    },
    {
     "data": {
      "image/png": "[encoded data removed]",
      "text/plain": [
       "<Figure size 432x288 with 1 Axes>"
      ]
     },
     "metadata": {
      "needs_background": "light"
     },
     "output_type": "display_data"
    }
   ],
   "source": [
    "plt.plot(history.history['accuracy'], label = 'train acc')\n",
    "plt.plot(history.history['val_accuracy'], label = 'val acc')\n",
    "plt.legend()\n",
    "plt.title('acc')\n",
    "plt.show()\n",
    "\n",
    "plt.plot(history.history['loss'], label = 'train loss')\n",
    "plt.plot(history.history['val_loss'], label = 'val_loss')\n",
    "plt.legend()\n",
    "plt.title('loss')\n",
    "plt.show()\n",
    "\n",
    "plt.plot(history.history['auc'], label = 'train auroc')\n",
    "plt.plot(history.history['val_auc'], label = 'val_auroc')\n",
    "plt.legend()\n",
    "plt.title('auroc')\n",
    "plt.show()"
   ]
  },
  {
   "cell_type": "code",
   "execution_count": 11,
   "metadata": {},
   "outputs": [],
   "source": [
    "model.load_weights(model_dir + weight_file)"
   ]
  },
  {
   "cell_type": "code",
   "execution_count": 12,
   "metadata": {},
   "outputs": [],
   "source": [
    "val_gen = FBMMDataGenerator(data_dict=val_dict,\n",
    "                          tokenizer=tokenizer,\n",
    "                          pad_len=max_len,\n",
    "                          batch_size=8,\n",
    "                          dim=(224*scale_factor, 224*scale_factor),\n",
    "                          n_channels=3,\n",
    "                          shuffle=True)"
   ]
  },
  {
   "cell_type": "code",
   "execution_count": 13,
   "metadata": {},
   "outputs": [
    {
     "name": "stdout",
     "output_type": "stream",
     "text": [
      "Val AUROC: 0.6597600000000001\n",
      "Val Accuracy: 0.558\n"
     ]
    }
   ],
   "source": [
    "# test\n",
    "from sklearn.metrics import roc_auc_score, f1_score, precision_score, recall_score, accuracy_score\n",
    "import math\n",
    "\n",
    "y_val = val_gen.classes\n",
    "\n",
    "# get AUROC\n",
    "preds = model.predict_generator(val_gen)\n",
    "print('Val AUROC:', roc_auc_score(y_val, preds))\n",
    "\n",
    "# get loss and acc\n",
    "preds_bin = np.array(preds)\n",
    "preds_bin[preds>0.5] = 1\n",
    "preds_bin[preds<=0.5] = 0\n",
    "print('Val Accuracy:', accuracy_score(y_val, preds_bin))"
   ]
  },
  {
   "cell_type": "code",
   "execution_count": 14,
   "metadata": {},
   "outputs": [],
   "source": [
    "test_gen = FBMMDataGenerator(data_dict=test_dict,\n",
    "                          tokenizer=tokenizer,\n",
    "                          pad_len=max_len,\n",
    "                          batch_size=8,\n",
    "                          dim=(224*scale_factor, 224*scale_factor),\n",
    "                          n_channels=3,\n",
    "                          shuffle=False,\n",
    "                          test=True)\n",
    "\n",
    "ids = test_gen.id_list\n",
    "\n",
    "preds = model.predict_generator(test_gen)\n",
    "preds = np.squeeze(preds)\n",
    "\n",
    "preds_bin = np.array(preds)\n",
    "preds_bin[preds >= 0.5] = 1\n",
    "preds_bin[preds < 0.5] = 0\n",
    "\n",
    "# write to csv\n",
    "import csv\n",
    "\n",
    "with open('visbert_submission.csv', 'w') as myfile:\n",
    "    wr = csv.writer(myfile)\n",
    "    wr.writerow([\"id\", \"proba\", \"label\"])\n",
    "    for ID, prob, lab in zip(ids, preds, preds_bin):\n",
    "        wr.writerow([ID, prob, int(lab)])"
   ]
  },
  {
   "cell_type": "code",
   "execution_count": null,
   "metadata": {},
   "outputs": [],
   "source": []
  }
 ],
 "metadata": {
  "kernelspec": {
   "display_name": "python36env",
   "language": "python",
   "name": "python36env"
  },
  "language_info": {
   "codemirror_mode": {
    "name": "ipython",
    "version": 3
   },
   "file_extension": ".py",
   "mimetype": "text/x-python",
   "name": "python",
   "nbconvert_exporter": "python",
   "pygments_lexer": "ipython3",
   "version": "3.6.9"
  }
 },
 "nbformat": 4,
 "nbformat_minor": 4
}
