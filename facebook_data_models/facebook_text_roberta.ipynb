{
 "cells": [
  {
   "cell_type": "code",
   "execution_count": 1,
   "metadata": {},
   "outputs": [],
   "source": [
    "%matplotlib inline\n",
    "from matplotlib import pyplot as plt\n",
    "from tqdm import tqdm\n",
    "import numpy as np\n",
    "import tensorflow as tf\n",
    "import os\n",
    "import pickle\n",
    "import json\n",
    "import re"
   ]
  },
  {
   "cell_type": "code",
   "execution_count": 2,
   "metadata": {},
   "outputs": [
    {
     "data": {
      "text/plain": [
       "True"
      ]
     },
     "execution_count": 2,
     "metadata": {},
     "output_type": "execute_result"
    }
   ],
   "source": [
    "tf.test.is_gpu_available()"
   ]
  },
  {
   "cell_type": "code",
   "execution_count": 3,
   "metadata": {},
   "outputs": [
    {
     "name": "stdout",
     "output_type": "stream",
     "text": [
      "8500\n",
      "500\n",
      "1000\n"
     ]
    }
   ],
   "source": [
    "# create giant dictionary for all data\n",
    "data_dir = '../facebook_challenge_data/'\n",
    "model_dir = 'models/'\n",
    "\n",
    "# load data and print sizes\n",
    "def get_dict(path):\n",
    "    jsonl_content = open(path, 'r').read()\n",
    "    data = [json.loads(jline) for jline in jsonl_content.split('\\n')]\n",
    "    return {datum['id'] : datum for datum in data}\n",
    "\n",
    "\n",
    "train_dict = get_dict(data_dir + 'train.jsonl')\n",
    "val_dict = get_dict(data_dir + 'dev.jsonl')\n",
    "test_dict = get_dict(data_dir + 'test.jsonl')\n",
    "\n",
    "print(len(train_dict))\n",
    "print(len(val_dict))\n",
    "print(len(test_dict))"
   ]
  },
  {
   "cell_type": "code",
   "execution_count": 4,
   "metadata": {},
   "outputs": [],
   "source": [
    "# transform from json dictionaries to dataset\n",
    "def get_text_data(dictionary):\n",
    "    return [(datum['text'], datum['label']) for datum in dictionary.values()]\n",
    "\n",
    "train_data = get_text_data(train_dict)\n",
    "val_data = get_text_data(val_dict)\n",
    "# test_list = get_text_data(test_dict)"
   ]
  },
  {
   "cell_type": "code",
   "execution_count": 5,
   "metadata": {},
   "outputs": [
    {
     "name": "stdout",
     "output_type": "stream",
     "text": [
      "Longest training sequence length: 70\n",
      "Shape of data tensor: (8500, 50)\n",
      "Shape of label tensor: (8500,)\n"
     ]
    }
   ],
   "source": [
    "# make the dataset\n",
    "from tensorflow.keras.preprocessing.text import Tokenizer\n",
    "from tensorflow.keras.preprocessing.sequence import pad_sequences\n",
    "from transformers import AutoConfig, AutoModelForSequenceClassification, AutoTokenizer, TFRobertaModel\n",
    "\n",
    "tokenizer = AutoTokenizer.from_pretrained('roberta-base')\n",
    "MAX_SEQ_LEN = 50\n",
    "\n",
    "# training\n",
    "texts, labels = zip(*train_data)\n",
    "print('Longest training sequence length:', max([len(t.split()) for t in texts]))\n",
    "\n",
    "sequences = [tokenizer.encode(text) for text in texts]\n",
    "\n",
    "x_train = pad_sequences(sequences, maxlen=MAX_SEQ_LEN)\n",
    "\n",
    "y_train = np.asarray(labels)\n",
    "print('Shape of data tensor:', x_train.shape)\n",
    "print('Shape of label tensor:', y_train.shape)\n",
    "\n",
    "# validation\n",
    "val_texts, val_labels = zip(*val_data)\n",
    "\n",
    "val_sequences = [tokenizer.encode(text) for text in val_texts]\n",
    "x_val = pad_sequences(val_sequences, maxlen=MAX_SEQ_LEN)\n",
    "y_val = np.asarray(val_labels)"
   ]
  },
  {
   "cell_type": "code",
   "execution_count": 6,
   "metadata": {},
   "outputs": [
    {
     "name": "stdout",
     "output_type": "stream",
     "text": [
      "Model: \"model\"\n",
      "_________________________________________________________________\n",
      "Layer (type)                 Output Shape              Param #   \n",
      "=================================================================\n",
      "input_1 (InputLayer)         [(None, 50)]              0         \n",
      "_________________________________________________________________\n",
      "roberta (ROBERTA)            ((None, 50, 768), (None,  124645632 \n",
      "_________________________________________________________________\n",
      "tf_op_layer_strided_slice (T [(None, 1, 768)]          0         \n",
      "_________________________________________________________________\n",
      "tf_op_layer_Squeeze (TensorF [(None, 768)]             0         \n",
      "_________________________________________________________________\n",
      "dropout_38 (Dropout)         (None, 768)               0         \n",
      "_________________________________________________________________\n",
      "outputs (Dense)              (None, 1)                 769       \n",
      "=================================================================\n",
      "Total params: 124,646,401\n",
      "Trainable params: 124,646,401\n",
      "Non-trainable params: 0\n",
      "_________________________________________________________________\n"
     ]
    }
   ],
   "source": [
    "# load pretrained roberta\n",
    "import transformers\n",
    "from tensorflow.keras import layers\n",
    "\n",
    "class ROBERTA(transformers.TFRobertaModel):\n",
    "\n",
    "    def __init__(self, config, *inputs, **kwargs):\n",
    "        super(ROBERTA, self).__init__(config, *inputs, **kwargs)\n",
    "        self.roberta.call = tf.function(self.roberta.call)\n",
    "\n",
    "input_ids = layers.Input(shape=(MAX_SEQ_LEN,), dtype=tf.int32)\n",
    "roberta = ROBERTA.from_pretrained('roberta-base')\n",
    "roberta_encodings = roberta([input_ids])[0]\n",
    "doc_encoding = tf.squeeze(roberta_encodings[:, 0:1, :], axis=1) # Keep [CLS] token encoding\n",
    "doc_encoding = layers.Dropout(0.1)(doc_encoding) # Apply dropout\n",
    "outputs = layers.Dense(1, activation='sigmoid', name='outputs')(doc_encoding)\n",
    "model = tf.keras.models.Model(inputs=[input_ids], outputs=[outputs])\n",
    "\n",
    "# compile\n",
    "optimizer = tf.keras.optimizers.Adam(lr=5e-5)\n",
    "model.compile(optimizer=optimizer, loss='binary_crossentropy', metrics=['accuracy'])\n",
    "\n",
    "model.summary()"
   ]
  },
  {
   "cell_type": "code",
   "execution_count": 7,
   "metadata": {},
   "outputs": [
    {
     "name": "stdout",
     "output_type": "stream",
     "text": [
      "Train on 8500 samples, validate on 500 samples\n",
      "Epoch 1/5\n",
      "8400/8500 [============================>.] - ETA: 1s - loss: 0.6529 - accuracy: 0.6517\n",
      "Epoch 00001: val_loss improved from inf to 0.78336, saving model to models/best_text_roberta_weights.h5\n",
      "8500/8500 [==============================] - 168s 20ms/sample - loss: 0.6528 - accuracy: 0.6518 - val_loss: 0.7834 - val_accuracy: 0.5080\n",
      "Epoch 2/5\n",
      "8400/8500 [============================>.] - ETA: 1s - loss: 0.5822 - accuracy: 0.7050\n",
      "Epoch 00002: val_loss improved from 0.78336 to 0.72186, saving model to models/best_text_roberta_weights.h5\n",
      "8500/8500 [==============================] - 153s 18ms/sample - loss: 0.5826 - accuracy: 0.7048 - val_loss: 0.7219 - val_accuracy: 0.5460\n",
      "Epoch 3/5\n",
      "8400/8500 [============================>.] - ETA: 1s - loss: 0.5405 - accuracy: 0.7352\n",
      "Epoch 00003: val_loss did not improve from 0.72186\n",
      "8500/8500 [==============================] - 143s 17ms/sample - loss: 0.5408 - accuracy: 0.7348 - val_loss: 0.8703 - val_accuracy: 0.5340\n",
      "Epoch 4/5\n",
      "8400/8500 [============================>.] - ETA: 1s - loss: 0.4960 - accuracy: 0.7593\n",
      "Epoch 00004: val_loss did not improve from 0.72186\n",
      "8500/8500 [==============================] - 143s 17ms/sample - loss: 0.4972 - accuracy: 0.7585 - val_loss: 0.8728 - val_accuracy: 0.5180\n",
      "Epoch 5/5\n",
      "8400/8500 [============================>.] - ETA: 1s - loss: 0.4621 - accuracy: 0.7707\n",
      "Epoch 00005: val_loss did not improve from 0.72186\n",
      "8500/8500 [==============================] - 143s 17ms/sample - loss: 0.4622 - accuracy: 0.7708 - val_loss: 0.9411 - val_accuracy: 0.5460\n"
     ]
    }
   ],
   "source": [
    "from tensorflow.keras.callbacks import ModelCheckpoint\n",
    "\n",
    "mcp_save = ModelCheckpoint(model_dir + 'best_text_roberta_weights.h5', \n",
    "                           save_weights_only=True, \n",
    "                           save_best_only=True, \n",
    "                           verbose=1,\n",
    "                           monitor='val_loss', \n",
    "                           mode='min')\n",
    "\n",
    "\n",
    "history = model.fit(x_train, y_train, epochs=5, batch_size=100, validation_data=(x_val, y_val), callbacks=[mcp_save])"
   ]
  },
  {
   "cell_type": "code",
   "execution_count": 8,
   "metadata": {},
   "outputs": [
    {
     "data": {
      "image/png": "[encoded data removed]",
      "text/plain": [
       "<Figure size 432x288 with 1 Axes>"
      ]
     },
     "metadata": {
      "needs_background": "light"
     },
     "output_type": "display_data"
    },
    {
     "data": {
      "image/png": "[encoded data removed]",
      "text/plain": [
       "<Figure size 432x288 with 1 Axes>"
      ]
     },
     "metadata": {
      "needs_background": "light"
     },
     "output_type": "display_data"
    }
   ],
   "source": [
    "plt.plot(history.history['accuracy'], label = 'acc')\n",
    "plt.plot(history.history['val_accuracy'], label = 'val acc')\n",
    "plt.legend()\n",
    "plt.show()\n",
    "\n",
    "plt.plot(history.history['loss'], label = 'loss')\n",
    "plt.plot(history.history['val_loss'], label = 'val_loss')\n",
    "plt.legend()\n",
    "plt.show()"
   ]
  },
  {
   "cell_type": "code",
   "execution_count": 9,
   "metadata": {},
   "outputs": [],
   "source": [
    "model.load_weights(model_dir + 'best_text_roberta_weights.h5')"
   ]
  },
  {
   "cell_type": "code",
   "execution_count": 10,
   "metadata": {},
   "outputs": [
    {
     "name": "stdout",
     "output_type": "stream",
     "text": [
      "WARNING:tensorflow:5 out of the last 7 calls to <bound method TFBertMainLayer.call of <transformers.modeling_tf_roberta.TFRobertaMainLayer object at 0x7f60a6de3da0>> triggered tf.function retracing. Tracing is expensive and the excessive number of tracings is likely due to passing python objects instead of tensors. Also, tf.function has experimental_relax_shapes=True option that relaxes argument shapes that can avoid unnecessary retracing. Please refer to https://www.tensorflow.org/beta/tutorials/eager/tf_function#python_or_tensor_args and https://www.tensorflow.org/api_docs/python/tf/function for more details.\n",
      "Test AUROC: 0.632496\n",
      "Val acc: 0.546\n",
      "Val F1: 0.2972136222910217\n",
      "Val Precision: 0.6575342465753424\n",
      "Val Recall: 0.192\n"
     ]
    }
   ],
   "source": [
    "# test\n",
    "from sklearn.metrics import roc_auc_score, f1_score, precision_score, recall_score, accuracy_score\n",
    "\n",
    "val_texts, val_labels = zip(*val_data)\n",
    "\n",
    "val_sequences = [tokenizer.encode(text) for text in val_texts] # apply train tokenizer\n",
    "x_val = pad_sequences(val_sequences, maxlen=MAX_SEQ_LEN)\n",
    "y_val = np.asarray(val_labels)\n",
    "\n",
    "# get AUROC\n",
    "preds = model.predict(x_val)\n",
    "print('Test AUROC:', roc_auc_score(y_val, preds))\n",
    "\n",
    "# get loss and acc\n",
    "preds_bin = np.array(preds)\n",
    "preds_bin[preds >= 0.5] = 1\n",
    "preds_bin[preds < 0.5] = 0\n",
    "print('Val acc:', accuracy_score(y_val, preds_bin))\n",
    "\n",
    "# get F1\n",
    "print('Val F1:', f1_score(y_val, preds_bin, zero_division=1))\n",
    "print('Val Precision:', precision_score(y_val, preds_bin, zero_division=1))\n",
    "print('Val Recall:', recall_score(y_val, preds_bin, zero_division=1))"
   ]
  },
  {
   "cell_type": "code",
   "execution_count": 11,
   "metadata": {},
   "outputs": [],
   "source": [
    "# import pickle\n",
    "\n",
    "# model.save(model_dir + 'fb_lstm.h5')\n",
    "# pickle.dump(tokenizer, open(model_dir + 'fb_tokenizer.pkl', 'wb'))"
   ]
  },
  {
   "cell_type": "code",
   "execution_count": 12,
   "metadata": {},
   "outputs": [],
   "source": [
    "jsonl_content = open(data_dir + 'test.jsonl', 'r').read()\n",
    "data = [json.loads(jline) for jline in jsonl_content.split('\\n')]\n",
    "test_data = [(d['id'], d['text']) for d in data]\n",
    "ids, test_texts = zip(*test_data)\n",
    "\n",
    "test_sequences = [tokenizer.encode(text) for text in test_texts] # apply train tokenizer\n",
    "x_test = pad_sequences(test_sequences, maxlen=MAX_SEQ_LEN)\n",
    "\n",
    "preds = model.predict(x_test)\n",
    "preds = np.squeeze(preds)\n",
    "# print(preds)\n",
    "\n",
    "preds_bin = np.array(preds)\n",
    "preds_bin[preds >= 0.5] = 1\n",
    "preds_bin[preds < 0.5] = 0\n",
    "\n",
    "# write to csv\n",
    "import csv\n",
    "\n",
    "with open('roberta_text_submission.csv', 'w') as myfile:\n",
    "    wr = csv.writer(myfile)\n",
    "    wr.writerow([\"id\", \"proba\", \"label\"])\n",
    "    for ID, prob, lab in zip(ids, preds, preds_bin):\n",
    "        ID = '0' * (5-len(str(ID))) + str(ID)\n",
    "        wr.writerow([ID, prob, int(lab)])"
   ]
  },
  {
   "cell_type": "code",
   "execution_count": null,
   "metadata": {},
   "outputs": [],
   "source": []
  },
  {
   "cell_type": "code",
   "execution_count": null,
   "metadata": {},
   "outputs": [],
   "source": []
  }
 ],
 "metadata": {
  "kernelspec": {
   "display_name": "python36env",
   "language": "python",
   "name": "python36env"
  },
  "language_info": {
   "codemirror_mode": {
    "name": "ipython",
    "version": 3
   },
   "file_extension": ".py",
   "mimetype": "text/x-python",
   "name": "python",
   "nbconvert_exporter": "python",
   "pygments_lexer": "ipython3",
   "version": "3.6.9"
  }
 },
 "nbformat": 4,
 "nbformat_minor": 4
}
