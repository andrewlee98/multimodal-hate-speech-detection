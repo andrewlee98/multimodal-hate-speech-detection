{
 "cells": [
  {
   "cell_type": "code",
   "execution_count": 1,
   "metadata": {},
   "outputs": [],
   "source": [
    "%matplotlib inline\n",
    "from matplotlib import pyplot as plt\n",
    "from tqdm import tqdm\n",
    "import numpy as np\n",
    "import tensorflow as tf\n",
    "import os\n",
    "import pickle\n",
    "import json\n",
    "import cv2\n",
    "import re"
   ]
  },
  {
   "cell_type": "code",
   "execution_count": 2,
   "metadata": {},
   "outputs": [
    {
     "data": {
      "text/plain": [
       "True"
      ]
     },
     "execution_count": 2,
     "metadata": {},
     "output_type": "execute_result"
    }
   ],
   "source": [
    "tf.test.is_gpu_available()"
   ]
  },
  {
   "cell_type": "code",
   "execution_count": 3,
   "metadata": {},
   "outputs": [
    {
     "name": "stdout",
     "output_type": "stream",
     "text": [
      "8500\n",
      "500\n",
      "1000\n"
     ]
    }
   ],
   "source": [
    "# create giant dictionary for all data\n",
    "data_dir = '../facebook_challenge_data/'\n",
    "model_dir = 'models/'\n",
    "\n",
    "# load data and print sizes\n",
    "def get_dict(path):\n",
    "    jsonl_content = open(path, 'r').read()\n",
    "    data = [json.loads(jline) for jline in jsonl_content.split('\\n')]\n",
    "    return {datum['id'] : datum for datum in data}\n",
    "\n",
    "\n",
    "train_dict = get_dict(data_dir + 'train.jsonl')\n",
    "val_dict = get_dict(data_dir + 'dev.jsonl')\n",
    "test_dict = get_dict(data_dir + 'test.jsonl')\n",
    "\n",
    "print(len(train_dict))\n",
    "print(len(val_dict))\n",
    "print(len(test_dict))"
   ]
  },
  {
   "cell_type": "code",
   "execution_count": 4,
   "metadata": {},
   "outputs": [],
   "source": [
    "# transform from json dictionaries to dataset\n",
    "def get_text_data(dictionary):\n",
    "    return [(datum['text'], datum['label']) for datum in dictionary.values()]\n",
    "\n",
    "train_data = get_text_data(train_dict)\n",
    "val_data = get_text_data(val_dict)\n",
    "# test_list = get_text_data(test_dict)"
   ]
  },
  {
   "cell_type": "code",
   "execution_count": 5,
   "metadata": {},
   "outputs": [
    {
     "name": "stdout",
     "output_type": "stream",
     "text": [
      "Longest training sequence length: 70\n",
      "Found 12644 unique tokens.\n",
      "Shape of data tensor: (8500, 50)\n",
      "Shape of label tensor: (8500,)\n"
     ]
    }
   ],
   "source": [
    "# make the dataset\n",
    "from tensorflow.keras.preprocessing.text import Tokenizer\n",
    "from tensorflow.keras.preprocessing.sequence import pad_sequences\n",
    "\n",
    "MAX_NUMBER_OF_WORDS = 20000\n",
    "MAX_SEQ_LEN = 50\n",
    "\n",
    "# training\n",
    "texts, labels = zip(*train_data)\n",
    "print('Longest training sequence length:', max([len(t.split()) for t in texts]))\n",
    "\n",
    "tokenizer = Tokenizer(num_words=MAX_NUMBER_OF_WORDS, filters='\\t\\n', lower=True)\n",
    "tokenizer.fit_on_texts(texts)\n",
    "# tokenizer = pickle.load(open('../fcm_replication/models/tokenizer.pkl', 'rb'))\n",
    "sequences = tokenizer.texts_to_sequences(texts)\n",
    "\n",
    "word_index = tokenizer.word_index\n",
    "print('Found %s unique tokens.' % len(word_index))\n",
    "\n",
    "x_train = pad_sequences(sequences, maxlen=MAX_SEQ_LEN)\n",
    "\n",
    "y_train = np.asarray(labels)\n",
    "print('Shape of data tensor:', x_train.shape)\n",
    "print('Shape of label tensor:', y_train.shape)\n",
    "\n",
    "# validation\n",
    "val_texts, val_labels = zip(*val_data)\n",
    "\n",
    "val_sequences = tokenizer.texts_to_sequences(val_texts) # apply train tokenizer\n",
    "x_val = pad_sequences(val_sequences, maxlen=MAX_SEQ_LEN)\n",
    "y_val = np.asarray(val_labels)"
   ]
  },
  {
   "cell_type": "code",
   "execution_count": 6,
   "metadata": {},
   "outputs": [],
   "source": [
    "# embedding layer\n",
    "from tensorflow.keras.layers import Embedding\n",
    "EMBEDDING_DIM = 100\n",
    "\n",
    "# map word to embedding\n",
    "embeddings_index = {}\n",
    "for line in open(os.path.join('..', 'glove.twitter.27B.100d.txt')):\n",
    "    values = line.split()\n",
    "    word = values[0]\n",
    "    embeddings_index[word] = np.asarray(values[1:], dtype='float32')\n",
    "\n",
    "# create embedding matrix (words without embeddings get zero embeddings)\n",
    "embedding_matrix = np.zeros((len(word_index) + 1, EMBEDDING_DIM))\n",
    "for word, i in word_index.items():\n",
    "    embedding_vector = embeddings_index.get(word)\n",
    "    if embedding_vector is not None: embedding_matrix[i] = embedding_vector\n",
    "\n",
    "embedding_layer = Embedding(len(word_index) + 1,\n",
    "                            EMBEDDING_DIM,\n",
    "                            weights=[embedding_matrix],\n",
    "                            input_length=MAX_SEQ_LEN,\n",
    "                            trainable=False)"
   ]
  },
  {
   "cell_type": "code",
   "execution_count": 7,
   "metadata": {},
   "outputs": [
    {
     "name": "stdout",
     "output_type": "stream",
     "text": [
      "Model: \"sequential\"\n",
      "_________________________________________________________________\n",
      "Layer (type)                 Output Shape              Param #   \n",
      "=================================================================\n",
      "embedding (Embedding)        (None, 50, 100)           1264500   \n",
      "_________________________________________________________________\n",
      "lstm (LSTM)                  (None, 150)               150600    \n",
      "_________________________________________________________________\n",
      "dense (Dense)                (None, 1)                 151       \n",
      "=================================================================\n",
      "Total params: 1,415,251\n",
      "Trainable params: 150,751\n",
      "Non-trainable params: 1,264,500\n",
      "_________________________________________________________________\n",
      "None\n",
      "Train on 8500 samples, validate on 500 samples\n",
      "Epoch 1/10\n",
      "8500/8500 [==============================] - 8s 985us/sample - loss: 0.6219 - accuracy: 0.6631 - val_loss: 0.7156 - val_accuracy: 0.5540\n",
      "Epoch 2/10\n",
      "8500/8500 [==============================] - 3s 312us/sample - loss: 0.5893 - accuracy: 0.6928 - val_loss: 0.7900 - val_accuracy: 0.5320\n",
      "Epoch 3/10\n",
      "8500/8500 [==============================] - 3s 317us/sample - loss: 0.5751 - accuracy: 0.7046 - val_loss: 0.7216 - val_accuracy: 0.5600\n",
      "Epoch 4/10\n",
      "8500/8500 [==============================] - 3s 331us/sample - loss: 0.5624 - accuracy: 0.7196 - val_loss: 0.7424 - val_accuracy: 0.5580\n",
      "Epoch 5/10\n",
      "8500/8500 [==============================] - 3s 333us/sample - loss: 0.5518 - accuracy: 0.7231 - val_loss: 0.7719 - val_accuracy: 0.5460\n",
      "Epoch 6/10\n",
      "8500/8500 [==============================] - 3s 303us/sample - loss: 0.5403 - accuracy: 0.7320 - val_loss: 0.7866 - val_accuracy: 0.5460\n",
      "Epoch 7/10\n",
      "8500/8500 [==============================] - 3s 317us/sample - loss: 0.5265 - accuracy: 0.7376 - val_loss: 0.7951 - val_accuracy: 0.5540\n",
      "Epoch 8/10\n",
      "8500/8500 [==============================] - 3s 316us/sample - loss: 0.5125 - accuracy: 0.7466 - val_loss: 0.7740 - val_accuracy: 0.5480\n",
      "Epoch 9/10\n",
      "8500/8500 [==============================] - 3s 307us/sample - loss: 0.4959 - accuracy: 0.7562 - val_loss: 0.7537 - val_accuracy: 0.5600\n",
      "Epoch 10/10\n",
      "8500/8500 [==============================] - 3s 335us/sample - loss: 0.4801 - accuracy: 0.7625 - val_loss: 0.8693 - val_accuracy: 0.5580\n"
     ]
    }
   ],
   "source": [
    "# validation on validation set\n",
    "from tensorflow.keras.layers import Input, LSTM, Dense\n",
    "from tensorflow.keras import Sequential\n",
    "\n",
    "model = Sequential()\n",
    "model.add(embedding_layer)\n",
    "model.add(LSTM(150))\n",
    "# model.add(Dense(150, activation='relu'))\n",
    "model.add(Dense(1, activation='sigmoid'))\n",
    "model.compile(loss='binary_crossentropy', optimizer='adam', metrics=['accuracy'])\n",
    "print(model.summary())\n",
    "\n",
    "history = model.fit(x_train, y_train, epochs=10, batch_size=100, validation_data=(x_val, y_val))"
   ]
  },
  {
   "cell_type": "code",
   "execution_count": 8,
   "metadata": {},
   "outputs": [
    {
     "data": {
      "image/png": "[encoded data removed]",
      "text/plain": [
       "<Figure size 432x288 with 1 Axes>"
      ]
     },
     "metadata": {
      "needs_background": "light"
     },
     "output_type": "display_data"
    },
    {
     "data": {
      "image/png": "[encoded data removed]",
      "text/plain": [
       "<Figure size 432x288 with 1 Axes>"
      ]
     },
     "metadata": {
      "needs_background": "light"
     },
     "output_type": "display_data"
    }
   ],
   "source": [
    "plt.plot(history.history['accuracy'], label = 'acc')\n",
    "plt.plot(history.history['val_accuracy'], label = 'val acc')\n",
    "plt.legend()\n",
    "plt.show()\n",
    "\n",
    "plt.plot(history.history['loss'], label = 'loss')\n",
    "plt.plot(history.history['val_loss'], label = 'val_loss')\n",
    "plt.legend()\n",
    "plt.show()"
   ]
  },
  {
   "cell_type": "code",
   "execution_count": 9,
   "metadata": {},
   "outputs": [
    {
     "name": "stdout",
     "output_type": "stream",
     "text": [
      "Test AUROC: 0.638456\n",
      "Val acc: 0.558\n",
      "Val F1: 0.32415902140672787\n",
      "Val Precision: 0.6883116883116883\n",
      "Val Recall: 0.212\n"
     ]
    }
   ],
   "source": [
    "# test\n",
    "from sklearn.metrics import roc_auc_score, f1_score, precision_score, recall_score, accuracy_score\n",
    "\n",
    "val_texts, val_labels = zip(*val_data)\n",
    "\n",
    "val_sequences = tokenizer.texts_to_sequences(val_texts) # apply train tokenizer\n",
    "x_val = pad_sequences(val_sequences, maxlen=MAX_SEQ_LEN)\n",
    "y_val = np.asarray(val_labels)\n",
    "\n",
    "# get AUROC\n",
    "preds = model.predict(x_val)\n",
    "print('Test AUROC:', roc_auc_score(y_val, preds))\n",
    "\n",
    "# get loss and acc\n",
    "preds_bin = np.array(preds)\n",
    "preds_bin[preds >= 0.5] = 1\n",
    "preds_bin[preds < 0.5] = 0\n",
    "print('Val acc:', accuracy_score(y_val, preds_bin))\n",
    "\n",
    "# get F1\n",
    "print('Val F1:', f1_score(y_val, preds_bin, zero_division=1))\n",
    "print('Val Precision:', precision_score(y_val, preds_bin, zero_division=1))\n",
    "print('Val Recall:', recall_score(y_val, preds_bin, zero_division=1))"
   ]
  },
  {
   "cell_type": "code",
   "execution_count": 12,
   "metadata": {},
   "outputs": [],
   "source": [
    "import pickle\n",
    "\n",
    "model.save(model_dir + 'fb_lstm.h5')\n",
    "pickle.dump(tokenizer, open(model_dir + 'fb_tokenizer.pkl', 'wb'))"
   ]
  },
  {
   "cell_type": "markdown",
   "metadata": {},
   "source": [
    "# Try mmhs150k trained model"
   ]
  },
  {
   "cell_type": "code",
   "execution_count": null,
   "metadata": {},
   "outputs": [],
   "source": [
    "# from tensorflow.keras.models import load_model\n",
    "\n",
    "# model = load_model('../fcm_replication/models/lstm.h5')"
   ]
  },
  {
   "cell_type": "code",
   "execution_count": null,
   "metadata": {},
   "outputs": [],
   "source": [
    "# # test\n",
    "# from sklearn.metrics import roc_auc_score, f1_score, precision_score, recall_score, accuracy_score\n",
    "\n",
    "# val_texts, val_labels = zip(*val_data)\n",
    "\n",
    "# val_sequences = tokenizer.texts_to_sequences(val_texts) # apply train tokenizer\n",
    "# x_val = pad_sequences(val_sequences, maxlen=MAX_SEQ_LEN)\n",
    "# y_val = np.asarray(val_labels)\n",
    "\n",
    "# # get AUROC\n",
    "# preds = model.predict(x_val)\n",
    "# print('Test AUROC:', roc_auc_score(y_val, preds))\n",
    "\n",
    "# # get loss and acc\n",
    "# preds_bin = np.array(preds)\n",
    "# preds_bin[preds >= 0.5] = 1\n",
    "# preds_bin[preds < 0.5] = 0\n",
    "# print('Val acc:', accuracy_score(y_val, preds_bin))\n",
    "\n",
    "# # get F1\n",
    "# print('Val F1:', f1_score(y_val, preds_bin, zero_division=1))\n",
    "# print('Val Precision:', precision_score(y_val, preds_bin, zero_division=1))\n",
    "# print('Val Recall:', recall_score(y_val, preds_bin, zero_division=1))"
   ]
  },
  {
   "cell_type": "code",
   "execution_count": null,
   "metadata": {},
   "outputs": [],
   "source": []
  }
 ],
 "metadata": {
  "kernelspec": {
   "display_name": "testenv",
   "language": "python",
   "name": "testenv"
  },
  "language_info": {
   "codemirror_mode": {
    "name": "ipython",
    "version": 3
   },
   "file_extension": ".py",
   "mimetype": "text/x-python",
   "name": "python",
   "nbconvert_exporter": "python",
   "pygments_lexer": "ipython3",
   "version": "3.5.3"
  }
 },
 "nbformat": 4,
 "nbformat_minor": 4
}
