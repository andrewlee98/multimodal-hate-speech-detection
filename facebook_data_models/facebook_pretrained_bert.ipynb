{
 "cells": [
  {
   "cell_type": "code",
   "execution_count": 1,
   "metadata": {},
   "outputs": [],
   "source": [
    "import os\n",
    "import math\n",
    "import datetime\n",
    "import json\n",
    "import re\n",
    "\n",
    "from tqdm import tqdm\n",
    "\n",
    "import pandas as pd\n",
    "import numpy as np\n",
    "\n",
    "import tensorflow as tf\n",
    "from tensorflow import keras\n",
    "\n",
    "import bert\n",
    "from bert import BertModelLayer\n",
    "from bert.loader import StockBertConfig, map_stock_config_to_params, load_stock_weights\n",
    "from bert.tokenization.bert_tokenization import FullTokenizer\n",
    "\n",
    "# from pylab import rcParams\n",
    "import matplotlib.pyplot as plt\n",
    "\n",
    "from sklearn.metrics import confusion_matrix, classification_report"
   ]
  },
  {
   "cell_type": "code",
   "execution_count": 2,
   "metadata": {},
   "outputs": [],
   "source": [
    "bert_ckpt_dir = os.path.join(\"../bert_models/pretrained_bert_model\")\n",
    "bert_ckpt_file = os.path.join(bert_ckpt_dir, \"bert_model.ckpt\") #.data-00000-of-00001\")\n",
    "bert_config_file = os.path.join(bert_ckpt_dir, \"bert_config.json\")"
   ]
  },
  {
   "cell_type": "code",
   "execution_count": 3,
   "metadata": {},
   "outputs": [],
   "source": [
    "classes = [0,1]\n",
    "def create_model(max_seq_len, bert_ckpt_file):\n",
    "\n",
    "  with tf.io.gfile.GFile(bert_config_file, \"r\") as reader:\n",
    "      bc = StockBertConfig.from_json_string(reader.read())\n",
    "      bert_params = map_stock_config_to_params(bc)\n",
    "      bert_params.adapter_size = None\n",
    "      bert = BertModelLayer.from_params(bert_params, name=\"bert\")\n",
    "        \n",
    "  input_ids = keras.layers.Input(shape=(max_seq_len, ), dtype='int32', name=\"input_ids\")\n",
    "  bert_output = bert(input_ids)\n",
    "\n",
    "  print(\"bert shape\", bert_output.shape)\n",
    "\n",
    "  cls_out = keras.layers.Lambda(lambda seq: seq[:, 0, :])(bert_output)\n",
    "#   cls_out = keras.layers.Dropout(0.5)(cls_out)\n",
    "  logits = keras.layers.Dense(units=768, activation=\"tanh\")(cls_out)\n",
    "#   logits = keras.layers.Dropout(0.5)(logits)\n",
    "#   logits = keras.layers.Dense(units=len(classes), activation=\"softmax\")(logits)\n",
    "  logits = keras.layers.Dense(units=1, activation=\"sigmoid\")(logits)\n",
    "\n",
    "  model = keras.Model(inputs=input_ids, outputs=logits)\n",
    "  model.build(input_shape=(None, max_seq_len))\n",
    "\n",
    "  load_stock_weights(bert, bert_ckpt_file)\n",
    "        \n",
    "  return model"
   ]
  },
  {
   "cell_type": "code",
   "execution_count": 4,
   "metadata": {},
   "outputs": [
    {
     "name": "stdout",
     "output_type": "stream",
     "text": [
      "bert shape (None, 60, 768)\n",
      "Done loading 196 BERT weights from: ../bert_models/pretrained_bert_model/bert_model.ckpt into <bert.model.BertModelLayer object at 0x7f20bf864c50> (prefix:bert). Count of weights not found in the checkpoint was: [0]. Count of weights with mismatched shape: [0]\n",
      "Unused weights from checkpoint: \n",
      "\tbert/embeddings/token_type_embeddings\n",
      "\tbert/pooler/dense/bias\n",
      "\tbert/pooler/dense/kernel\n",
      "\tcls/predictions/output_bias\n",
      "\tcls/predictions/transform/LayerNorm/beta\n",
      "\tcls/predictions/transform/LayerNorm/gamma\n",
      "\tcls/predictions/transform/dense/bias\n",
      "\tcls/predictions/transform/dense/kernel\n",
      "\tcls/seq_relationship/output_bias\n",
      "\tcls/seq_relationship/output_weights\n"
     ]
    }
   ],
   "source": [
    "# model = create_model(data.max_seq_len, bert_ckpt_file)\n",
    "model = create_model(60, bert_ckpt_file)"
   ]
  },
  {
   "cell_type": "code",
   "execution_count": 5,
   "metadata": {},
   "outputs": [
    {
     "name": "stdout",
     "output_type": "stream",
     "text": [
      "Model: \"model\"\n",
      "_________________________________________________________________\n",
      "Layer (type)                 Output Shape              Param #   \n",
      "=================================================================\n",
      "input_ids (InputLayer)       [(None, 60)]              0         \n",
      "_________________________________________________________________\n",
      "bert (BertModelLayer)        (None, 60, 768)           108890112 \n",
      "_________________________________________________________________\n",
      "lambda (Lambda)              (None, 768)               0         \n",
      "_________________________________________________________________\n",
      "dense (Dense)                (None, 768)               590592    \n",
      "_________________________________________________________________\n",
      "dense_1 (Dense)              (None, 1)                 769       \n",
      "=================================================================\n",
      "Total params: 109,481,473\n",
      "Trainable params: 109,481,473\n",
      "Non-trainable params: 0\n",
      "_________________________________________________________________\n"
     ]
    }
   ],
   "source": [
    "model.summary()"
   ]
  },
  {
   "cell_type": "code",
   "execution_count": 6,
   "metadata": {},
   "outputs": [
    {
     "name": "stdout",
     "output_type": "stream",
     "text": [
      "8500\n",
      "500\n",
      "1000\n"
     ]
    }
   ],
   "source": [
    "# load dataset\n",
    "\n",
    "data_dir = '../facebook_challenge_data/'\n",
    "model_dir = 'models/'\n",
    "\n",
    "# load data and print sizes\n",
    "# load data and print sizes\n",
    "def get_dict(path):\n",
    "    jsonl_content = open(path, 'r').read()\n",
    "    data = [json.loads(jline) for jline in jsonl_content.split('\\n')]\n",
    "    return {datum['id'] : datum for datum in data}\n",
    "\n",
    "\n",
    "train_dict = get_dict(data_dir + 'train.jsonl')\n",
    "val_dict = get_dict(data_dir + 'dev.jsonl')\n",
    "test_dict = get_dict(data_dir + 'test.jsonl')\n",
    "\n",
    "print(len(train_dict))\n",
    "print(len(val_dict))\n",
    "print(len(test_dict))\n",
    "\n",
    "def get_text_data(dictionary):\n",
    "    return [(datum['text'], datum['label']) for datum in dictionary.values()]\n",
    "\n",
    "train_data = get_text_data(train_dict)\n",
    "val_data = get_text_data(val_dict)\n",
    "# test_data = get_text_data(test_dict)"
   ]
  },
  {
   "cell_type": "code",
   "execution_count": 7,
   "metadata": {},
   "outputs": [
    {
     "name": "stdout",
     "output_type": "stream",
     "text": [
      "its their character not their color that matters ['its', 'their', 'character', 'not', 'their', 'color', 'that', 'matters']\n",
      "[2049, 2037, 2839, 2025, 2037, 3609, 2008, 5609]\n"
     ]
    }
   ],
   "source": [
    "# load the tokenizer from bert library\n",
    "tokenizer = FullTokenizer(vocab_file=os.path.join(bert_ckpt_dir, \"vocab.txt\"))\n",
    "print(train_data[0][0], tokenizer.tokenize(train_data[0][0]))\n",
    "print(tokenizer.convert_tokens_to_ids(tokenizer.tokenize(train_data[0][0])))"
   ]
  },
  {
   "cell_type": "code",
   "execution_count": 8,
   "metadata": {},
   "outputs": [
    {
     "name": "stderr",
     "output_type": "stream",
     "text": [
      "100%|██████████| 8500/8500 [00:01<00:00, 5457.30it/s]\n",
      "100%|██████████| 500/500 [00:00<00:00, 5958.63it/s]"
     ]
    },
    {
     "name": "stdout",
     "output_type": "stream",
     "text": [
      "Shape of data tensor: (8500, 60)\n",
      "Shape of label tensor: (8500,)\n"
     ]
    },
    {
     "name": "stderr",
     "output_type": "stream",
     "text": [
      "\n"
     ]
    }
   ],
   "source": [
    "# tokenize the sequences\n",
    "# https://colab.research.google.com/drive/1WQY_XxdiCVFzjMXnDdNfUjDFi0CN5hkT#scrollTo=TApTW_wLxoA9\n",
    "\n",
    "MAX_SEQ_LEN = 50\n",
    "\n",
    "def list_to_mats(l, tokenizer, pad_len):\n",
    "    texts, labels = zip(*l)\n",
    "    \n",
    "    sequences = []\n",
    "    for text in tqdm(texts):\n",
    "        tokens = [\"[CLS]\"] + tokenizer.tokenize(text) + [\"[SEP]\"]\n",
    "        tokens = [t for t in tokens if t[0]!='<'] # remove twitter specific text\n",
    "        token_ids = tokenizer.convert_tokens_to_ids(tokens)\n",
    "        sequences.append(token_ids)\n",
    "    \n",
    "    x = tf.keras.preprocessing.sequence.pad_sequences(sequences, maxlen=60, padding='post')\n",
    "    y = np.asarray(labels)\n",
    "    return x, y\n",
    "\n",
    "x_train, y_train = list_to_mats(train_data, tokenizer, MAX_SEQ_LEN)\n",
    "x_val, y_val = list_to_mats(val_data, tokenizer, MAX_SEQ_LEN)\n",
    "# x_test, y_test = list_to_mats(test_data, tokenizer, MAX_SEQ_LEN)\n",
    "\n",
    "print('Shape of data tensor:', x_train.shape)\n",
    "print('Shape of label tensor:', y_train.shape)"
   ]
  },
  {
   "cell_type": "code",
   "execution_count": 9,
   "metadata": {},
   "outputs": [
    {
     "name": "stdout",
     "output_type": "stream",
     "text": [
      "Epoch 1/15\n",
      "532/532 [==============================] - 631s 1s/step - loss: 0.7010 - accuracy: 0.6174 - val_loss: 0.8762 - val_accuracy: 0.5000\n",
      "Epoch 2/15\n",
      "532/532 [==============================] - 622s 1s/step - loss: 0.6725 - accuracy: 0.6222 - val_loss: 0.7904 - val_accuracy: 0.5000\n",
      "Epoch 3/15\n",
      "532/532 [==============================] - 626s 1s/step - loss: 0.6717 - accuracy: 0.6180 - val_loss: 0.9277 - val_accuracy: 0.5000\n",
      "Epoch 4/15\n",
      "532/532 [==============================] - 624s 1s/step - loss: 0.6680 - accuracy: 0.6262 - val_loss: 0.7055 - val_accuracy: 0.5000\n",
      "Epoch 5/15\n",
      "532/532 [==============================] - 622s 1s/step - loss: 0.6779 - accuracy: 0.6153 - val_loss: 0.7480 - val_accuracy: 0.5000\n",
      "Epoch 6/15\n",
      "532/532 [==============================] - 619s 1s/step - loss: 0.6706 - accuracy: 0.6260 - val_loss: 0.7008 - val_accuracy: 0.5000\n",
      "Epoch 7/15\n",
      "532/532 [==============================] - 621s 1s/step - loss: 0.6691 - accuracy: 0.6269 - val_loss: 0.7129 - val_accuracy: 0.5000\n",
      "Epoch 8/15\n",
      "532/532 [==============================] - 627s 1s/step - loss: 0.6695 - accuracy: 0.6268 - val_loss: 0.7522 - val_accuracy: 0.5000\n",
      "Epoch 9/15\n",
      "532/532 [==============================] - 622s 1s/step - loss: 0.6766 - accuracy: 0.6146 - val_loss: 0.8120 - val_accuracy: 0.5000\n",
      "Epoch 10/15\n",
      "532/532 [==============================] - 622s 1s/step - loss: 0.6719 - accuracy: 0.6249 - val_loss: 0.7349 - val_accuracy: 0.5000\n",
      "Epoch 11/15\n",
      "532/532 [==============================] - 627s 1s/step - loss: 0.6703 - accuracy: 0.6247 - val_loss: 0.7548 - val_accuracy: 0.5000\n",
      "Epoch 12/15\n",
      "532/532 [==============================] - 629s 1s/step - loss: 0.6769 - accuracy: 0.6179 - val_loss: 0.7854 - val_accuracy: 0.5000\n",
      "Epoch 13/15\n",
      "532/532 [==============================] - 630s 1s/step - loss: 0.6707 - accuracy: 0.6271 - val_loss: 0.7554 - val_accuracy: 0.5000\n",
      "Epoch 14/15\n",
      "532/532 [==============================] - 629s 1s/step - loss: 0.6715 - accuracy: 0.6231 - val_loss: 0.6970 - val_accuracy: 0.5000\n",
      "Epoch 15/15\n",
      "532/532 [==============================] - 630s 1s/step - loss: 0.6702 - accuracy: 0.6282 - val_loss: 0.7334 - val_accuracy: 0.5000\n"
     ]
    }
   ],
   "source": [
    "model.compile(loss='binary_crossentropy', optimizer='adam', metrics=['accuracy'])\n",
    "\n",
    "# shuffle data\n",
    "indices = (np.arange(x_train.shape[0]))\n",
    "np.random.shuffle(indices)\n",
    "x_train, y_train = x_train[indices], y_train[indices]\n",
    "\n",
    "history = model.fit(x_train, y_train, epochs=15, batch_size=16, validation_data=(x_val, y_val))"
   ]
  },
  {
   "cell_type": "code",
   "execution_count": 10,
   "metadata": {},
   "outputs": [
    {
     "name": "stdout",
     "output_type": "stream",
     "text": [
      "Test AUROC: 0.496568\n",
      "Val acc: 0.5\n",
      "Val F1: 0.0\n",
      "Val Precision: 1.0\n",
      "Val Recall: 0.0\n"
     ]
    }
   ],
   "source": [
    "# test\n",
    "from sklearn.metrics import roc_auc_score, f1_score, precision_score, recall_score, accuracy_score\n",
    "\n",
    "# get AUROC\n",
    "preds = model.predict(x_val)\n",
    "print('Test AUROC:', roc_auc_score(y_val, preds))\n",
    "\n",
    "# get loss and acc\n",
    "preds_bin = np.array(preds)\n",
    "preds_bin[preds >= 0.5] = 1\n",
    "preds_bin[preds < 0.5] = 0\n",
    "print('Val acc:', accuracy_score(y_val, preds_bin))\n",
    "\n",
    "# get F1\n",
    "print('Val F1:', f1_score(y_val, preds_bin, zero_division=1))\n",
    "print('Val Precision:', precision_score(y_val, preds_bin, zero_division=1))\n",
    "print('Val Recall:', recall_score(y_val, preds_bin, zero_division=1))"
   ]
  },
  {
   "cell_type": "code",
   "execution_count": 11,
   "metadata": {},
   "outputs": [
    {
     "name": "stdout",
     "output_type": "stream",
     "text": [
      "Test acc: 0.5\n",
      "Test F1: 0.6666666666666666\n",
      "Test Precision: 0.5\n",
      "Test Recall: 1.0\n"
     ]
    }
   ],
   "source": [
    "# accuracy scores with different threshold\n",
    "\n",
    "preds_bin[preds>0.2] = 1\n",
    "preds_bin[preds<=0.2] = 0\n",
    "print('Test acc:', accuracy_score(y_val, preds_bin))\n",
    "print('Test F1:', f1_score(y_val, preds_bin, zero_division=1))\n",
    "print('Test Precision:', precision_score(y_val, preds_bin, zero_division=1))\n",
    "print('Test Recall:', recall_score(y_val, preds_bin, zero_division=1))"
   ]
  },
  {
   "cell_type": "code",
   "execution_count": 12,
   "metadata": {},
   "outputs": [
    {
     "data": {
      "text/plain": [
       "(0.0, 1.0)"
      ]
     },
     "execution_count": 12,
     "metadata": {},
     "output_type": "execute_result"
    },
    {
     "data": {
      "image/png": "[encoded data removed]",
      "text/plain": [
       "<Figure size 432x288 with 1 Axes>"
      ]
     },
     "metadata": {
      "needs_background": "light"
     },
     "output_type": "display_data"
    }
   ],
   "source": [
    "%matplotlib inline\n",
    "plt.hist(preds)\n",
    "plt.xlim(0,1)"
   ]
  },
  {
   "cell_type": "code",
   "execution_count": 13,
   "metadata": {
    "scrolled": true
   },
   "outputs": [
    {
     "name": "stdout",
     "output_type": "stream",
     "text": [
      "[0.36090120673179626, 0.36090120673179626, 0.3609011769294739, 0.3609011173248291, 0.36090120673179626, 0.3609011769294739, 0.36090123653411865, 0.3609012961387634, 0.3609011769294739, 0.36090123653411865, 0.36090123653411865, 0.36090120673179626, 0.36090120673179626, 0.3609011769294739, 0.36090123653411865, 0.3609011769294739, 0.36090120673179626, 0.36090120673179626, 0.36090120673179626, 0.3609011769294739, 0.3609011769294739, 0.3609011173248291, 0.36090120673179626, 0.3609011769294739, 0.3609011769294739, 0.36090123653411865, 0.36090120673179626, 0.36090120673179626, 0.3609011769294739, 0.3609011769294739, 0.3609011769294739, 0.36090120673179626, 0.36090123653411865, 0.3609011769294739, 0.3609011769294739, 0.3609011769294739, 0.3609011769294739, 0.3609011769294739, 0.36090120673179626, 0.3609011769294739, 0.3609011769294739, 0.36090123653411865, 0.36090120673179626, 0.36090123653411865, 0.36090120673179626, 0.3609011769294739, 0.3609011769294739, 0.36090120673179626, 0.36090120673179626, 0.3609011769294739, 0.3609011769294739, 0.3609011769294739, 0.36090120673179626, 0.36090120673179626, 0.36090120673179626, 0.36090120673179626, 0.36090120673179626, 0.3609011769294739, 0.3609011769294739, 0.3609011769294739, 0.3609011769294739, 0.3609011769294739, 0.3609011769294739, 0.36090123653411865, 0.36090120673179626, 0.3609011769294739, 0.36090123653411865, 0.36090120673179626, 0.3609011769294739, 0.3609011769294739, 0.3609011769294739, 0.3609011769294739, 0.36090120673179626, 0.36090120673179626, 0.36090120673179626, 0.3609011769294739, 0.3609011769294739, 0.3609011769294739, 0.3609011769294739, 0.36090123653411865, 0.3609011769294739, 0.36090120673179626, 0.3609011769294739, 0.3609011769294739, 0.36090123653411865, 0.36090123653411865, 0.3609011769294739, 0.36090123653411865, 0.3609011769294739, 0.36090120673179626, 0.3609011769294739, 0.3609011769294739, 0.36090120673179626, 0.36090120673179626, 0.36090123653411865, 0.36090123653411865, 0.36090120673179626, 0.3609011769294739, 0.36090120673179626, 0.3609011769294739, 0.36090123653411865, 0.3609011769294739, 0.36090123653411865, 0.3609011769294739, 0.36090123653411865, 0.3609011769294739, 0.3609011769294739, 0.3609011769294739, 0.3609011769294739, 0.36090123653411865, 0.36090120673179626, 0.36090120673179626, 0.3609011769294739, 0.36090123653411865, 0.3609011769294739, 0.36090120673179626, 0.36090120673179626, 0.3609011769294739, 0.3609011471271515, 0.3609011769294739, 0.36090123653411865, 0.3609011769294739, 0.3609011769294739, 0.3609011769294739, 0.3609011769294739, 0.3609011769294739, 0.36090120673179626, 0.3609011769294739, 0.36090123653411865, 0.3609011769294739, 0.3609011769294739, 0.36090120673179626, 0.3609011769294739, 0.3609011769294739, 0.36090123653411865, 0.3609011769294739, 0.3609011769294739, 0.3609011769294739, 0.36090120673179626, 0.3609011769294739, 0.36090123653411865, 0.36090120673179626, 0.36090123653411865, 0.36090123653411865, 0.36090120673179626, 0.36090120673179626, 0.36090123653411865, 0.3609011769294739, 0.36090123653411865, 0.3609011769294739, 0.3609011769294739, 0.36090123653411865, 0.36090123653411865, 0.36090123653411865, 0.36090123653411865, 0.3609011769294739, 0.36090123653411865, 0.3609011769294739, 0.3609011769294739, 0.36090120673179626, 0.36090123653411865, 0.36090120673179626, 0.36090123653411865, 0.3609011769294739, 0.3609011769294739, 0.3609011769294739, 0.3609011769294739, 0.36090126633644104, 0.3609011769294739, 0.3609011471271515, 0.36090123653411865, 0.3609011769294739, 0.3609011769294739, 0.3609011769294739, 0.36090123653411865, 0.36090123653411865, 0.36090123653411865, 0.3609011769294739, 0.36090120673179626, 0.3609011769294739, 0.3609011769294739, 0.3609011769294739, 0.3609011769294739, 0.3609011769294739, 0.3609011769294739, 0.3609011769294739, 0.3609011769294739, 0.36090123653411865, 0.3609011769294739, 0.3609011769294739, 0.36090123653411865, 0.36090120673179626, 0.36090123653411865, 0.3609011769294739, 0.36090123653411865, 0.36090120673179626, 0.3609011769294739, 0.3609011769294739, 0.36090120673179626, 0.3609011769294739, 0.36090120673179626, 0.3609011769294739, 0.3609011769294739, 0.36090120673179626, 0.3609011769294739, 0.3609011769294739, 0.3609011769294739, 0.3609011769294739, 0.3609011769294739, 0.3609011769294739, 0.36090123653411865, 0.36090120673179626, 0.3609011769294739, 0.36090120673179626, 0.3609011769294739, 0.36090120673179626, 0.36090120673179626, 0.3609011471271515, 0.36090123653411865, 0.3609011769294739, 0.3609011769294739, 0.3609011173248291, 0.36090123653411865, 0.36090120673179626, 0.3609011769294739, 0.3609011769294739, 0.3609011769294739, 0.3609011769294739, 0.3609011769294739, 0.36090123653411865, 0.36090123653411865, 0.36090123653411865, 0.3609011769294739, 0.3609011769294739, 0.3609011769294739, 0.36090123653411865, 0.3609011769294739, 0.36090123653411865, 0.36090123653411865, 0.3609011769294739, 0.36090120673179626, 0.36090123653411865, 0.36090120673179626, 0.3609011769294739, 0.36090123653411865, 0.3609011769294739, 0.36090123653411865, 0.36090120673179626, 0.3609011769294739, 0.3609011769294739, 0.3609011769294739, 0.3609011769294739, 0.3609011769294739, 0.3609011769294739, 0.36090120673179626, 0.3609011769294739, 0.36090123653411865, 0.3609011769294739, 0.36090120673179626, 0.36090123653411865, 0.3609011769294739, 0.3609011769294739, 0.36090123653411865, 0.3609011769294739, 0.3609011769294739, 0.36090120673179626, 0.36090123653411865, 0.3609011769294739, 0.3609011173248291, 0.3609011471271515, 0.36090123653411865, 0.3609011769294739, 0.36090123653411865, 0.36090123653411865, 0.36090123653411865, 0.36090123653411865, 0.3609011769294739, 0.36090126633644104, 0.3609011769294739, 0.3609011769294739, 0.3609011769294739, 0.36090123653411865, 0.3609011769294739, 0.36090120673179626, 0.36090123653411865, 0.36090123653411865, 0.36090123653411865, 0.3609011769294739, 0.3609011769294739, 0.3609011769294739, 0.36090126633644104, 0.36090123653411865, 0.36090123653411865, 0.36090123653411865, 0.36090123653411865, 0.3609011769294739, 0.36090123653411865, 0.3609011769294739, 0.3609011769294739, 0.36090123653411865, 0.3609011173248291, 0.36090123653411865, 0.3609011769294739, 0.3609011769294739, 0.3609011769294739, 0.36090120673179626, 0.3609011769294739, 0.3609011769294739, 0.3609011769294739, 0.36090123653411865, 0.3609011769294739, 0.3609011769294739, 0.36090120673179626, 0.3609011769294739, 0.36090123653411865, 0.3609011769294739, 0.3609011769294739, 0.3609011173248291, 0.3609011769294739, 0.36090126633644104, 0.36090120673179626, 0.36090123653411865, 0.36090123653411865, 0.3609011769294739, 0.3609011471271515, 0.36090120673179626, 0.36090123653411865, 0.36090120673179626, 0.36090120673179626, 0.36090123653411865, 0.36090120673179626, 0.3609011769294739, 0.3609011769294739, 0.36090120673179626, 0.36090123653411865, 0.3609011769294739, 0.3609011769294739, 0.3609011173248291, 0.36090120673179626, 0.36090120673179626, 0.3609011769294739, 0.36090120673179626, 0.3609011769294739, 0.3609011769294739, 0.3609011769294739, 0.3609011769294739, 0.36090123653411865, 0.3609011769294739, 0.36090120673179626, 0.3609011769294739, 0.36090120673179626, 0.36090123653411865, 0.36090123653411865, 0.36090120673179626, 0.36090123653411865, 0.3609011769294739, 0.36090120673179626, 0.36090120673179626, 0.3609011769294739, 0.3609011769294739, 0.3609011769294739, 0.3609011769294739, 0.36090123653411865, 0.36090123653411865, 0.36090123653411865, 0.36090120673179626, 0.3609011173248291, 0.36090123653411865, 0.36090120673179626, 0.36090126633644104, 0.36090120673179626, 0.36090120673179626, 0.3609011769294739, 0.3609011769294739, 0.3609011769294739, 0.36090120673179626, 0.36090120673179626, 0.36090120673179626, 0.36090123653411865, 0.36090120673179626, 0.3609011769294739, 0.36090120673179626, 0.3609011769294739, 0.36090123653411865, 0.3609011769294739, 0.36090123653411865, 0.36090120673179626, 0.36090123653411865, 0.3609011769294739, 0.36090120673179626, 0.3609011769294739, 0.3609011769294739, 0.36090126633644104, 0.3609011769294739, 0.3609011769294739, 0.3609011769294739, 0.36090120673179626, 0.3609011769294739, 0.36090120673179626, 0.36090120673179626, 0.3609011769294739, 0.3609011769294739, 0.3609011769294739, 0.36090120673179626, 0.36090123653411865, 0.36090120673179626, 0.36090123653411865, 0.3609011769294739, 0.3609011769294739, 0.3609011769294739, 0.3609011769294739, 0.3609011173248291, 0.3609011769294739, 0.3609011769294739, 0.36090120673179626, 0.36090123653411865, 0.3609011769294739, 0.36090123653411865, 0.36090120673179626, 0.36090120673179626, 0.3609011471271515, 0.36090120673179626, 0.3609011769294739, 0.36090120673179626, 0.3609011769294739, 0.36090120673179626, 0.36090123653411865, 0.3609011769294739, 0.36090123653411865, 0.3609011769294739, 0.3609011769294739, 0.36090123653411865, 0.36090120673179626, 0.36090120673179626, 0.36090120673179626, 0.36090120673179626, 0.3609011769294739, 0.36090120673179626, 0.3609011769294739, 0.3609011769294739, 0.36090120673179626, 0.3609011769294739, 0.3609011769294739, 0.36090120673179626, 0.36090123653411865, 0.3609011471271515, 0.3609011769294739, 0.36090126633644104, 0.3609011769294739, 0.36090123653411865, 0.3609011769294739, 0.36090120673179626, 0.3609011769294739, 0.3609011769294739, 0.36090120673179626, 0.36090120673179626, 0.3609012961387634, 0.36090120673179626, 0.3609011769294739, 0.36090120673179626, 0.36090120673179626, 0.3609011769294739, 0.3609011769294739, 0.36090120673179626, 0.3609011769294739, 0.36090120673179626, 0.3609011769294739, 0.3609011769294739, 0.3609011769294739, 0.3609011471271515, 0.3609011769294739, 0.36090120673179626, 0.3609011769294739, 0.3609011769294739, 0.36090120673179626, 0.3609011769294739, 0.36090120673179626, 0.36090120673179626, 0.3609011769294739, 0.36090123653411865, 0.3609011471271515, 0.3609011769294739, 0.36090123653411865, 0.36090120673179626, 0.3609011769294739, 0.36090123653411865, 0.36090120673179626, 0.3609011769294739, 0.36090120673179626, 0.36090120673179626, 0.36090123653411865, 0.3609011769294739, 0.3609011769294739, 0.36090123653411865, 0.3609011769294739, 0.36090123653411865, 0.3609011769294739, 0.36090123653411865, 0.3609011769294739, 0.3609011769294739]\n"
     ]
    }
   ],
   "source": [
    "print([n.item() for n in preds])"
   ]
  },
  {
   "cell_type": "code",
   "execution_count": 23,
   "metadata": {},
   "outputs": [
    {
     "name": "stdout",
     "output_type": "stream",
     "text": [
      "Device mapping:\n",
      "/job:localhost/replica:0/task:0/device:XLA_CPU:0 -> device: XLA_CPU device\n",
      "/job:localhost/replica:0/task:0/device:XLA_GPU:0 -> device: XLA_GPU device\n",
      "\n"
     ]
    }
   ],
   "source": [
    "sess = tf.compat.v1.Session(config=tf.compat.v1.ConfigProto(log_device_placement=True))"
   ]
  },
  {
   "cell_type": "code",
   "execution_count": 24,
   "metadata": {},
   "outputs": [
    {
     "data": {
      "text/plain": [
       "False"
      ]
     },
     "execution_count": 24,
     "metadata": {},
     "output_type": "execute_result"
    }
   ],
   "source": [
    "tf.test.is_gpu_available()"
   ]
  },
  {
   "cell_type": "code",
   "execution_count": null,
   "metadata": {},
   "outputs": [],
   "source": []
  }
 ],
 "metadata": {
  "kernelspec": {
   "display_name": "python37env",
   "language": "python",
   "name": "python37env"
  },
  "language_info": {
   "codemirror_mode": {
    "name": "ipython",
    "version": 3
   },
   "file_extension": ".py",
   "mimetype": "text/x-python",
   "name": "python",
   "nbconvert_exporter": "python",
   "pygments_lexer": "ipython3",
   "version": "3.7.4"
  }
 },
 "nbformat": 4,
 "nbformat_minor": 4
}
