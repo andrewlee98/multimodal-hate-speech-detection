{
 "cells": [
  {
   "cell_type": "code",
   "execution_count": 38,
   "metadata": {},
   "outputs": [],
   "source": [
    "%matplotlib inline\n",
    "from matplotlib import pyplot as plt\n",
    "from tqdm import tqdm\n",
    "import numpy as np\n",
    "import os\n",
    "import pickle\n",
    "import json\n",
    "import cv2\n",
    "import re\n",
    "import keras"
   ]
  },
  {
   "cell_type": "code",
   "execution_count": 39,
   "metadata": {},
   "outputs": [
    {
     "data": {
      "text/plain": [
       "['/job:localhost/replica:0/task:0/device:GPU:0']"
      ]
     },
     "execution_count": 39,
     "metadata": {},
     "output_type": "execute_result"
    }
   ],
   "source": [
    "from keras import backend as K\n",
    "K.tensorflow_backend._get_available_gpus()"
   ]
  },
  {
   "cell_type": "code",
   "execution_count": 40,
   "metadata": {},
   "outputs": [
    {
     "name": "stdout",
     "output_type": "stream",
     "text": [
      "Found 134823 validated image filenames belonging to 2 classes.\n",
      "Found 5000 validated image filenames belonging to 2 classes.\n",
      "Found 10000 validated image filenames belonging to 2 classes.\n"
     ]
    }
   ],
   "source": [
    "# make image dataloader using flow_from_dataframe\n",
    "import pandas as pd\n",
    "from keras.preprocessing.image import ImageDataGenerator\n",
    "\n",
    "# load data to extract labels\n",
    "data_dir = 'mmhs150k/'\n",
    "tweet_dict = json.load(open(data_dir + 'MMHS150K_GT.json', 'r'))\n",
    "\n",
    "# read split id's and return data generator\n",
    "def get_data_dict(path):\n",
    "    \n",
    "    # build dictionary mapping id's to labels\n",
    "    data = {'id': [], 'label': []}\n",
    "    for id in open(data_dir + path, 'r').read().splitlines():\n",
    "\n",
    "        # get majority vote label\n",
    "        binary_labels = [1 if n > 0 else 0 for n in tweet_dict[id]['labels']]\n",
    "        label = 1 if sum(binary_labels)/len(tweet_dict[id]['labels']) > 0.5 else 0\n",
    "\n",
    "        # save to data dict\n",
    "        data['id'].append(id + '.jpg')\n",
    "        data['label'].append(str(label))\n",
    "\n",
    "    data_df = pd.DataFrame.from_dict(data) # get dataframe to flow from\n",
    "    \n",
    "    datagen = ImageDataGenerator(rescale=1./255)\n",
    "    generator = datagen.flow_from_dataframe(\n",
    "        dataframe=data_df,\n",
    "        directory=data_dir + 'img_resized',\n",
    "        x_col='id',\n",
    "        y_col='label',\n",
    "        target_size=(299, 299),\n",
    "        batch_size=16,\n",
    "        class_mode='binary')\n",
    "    \n",
    "    return generator\n",
    "    \n",
    "train_generator = get_data_dict('splits/train_ids.txt')\n",
    "val_generator = get_data_dict('splits/val_ids.txt')\n",
    "test_generator = get_data_dict('splits/test_ids.txt')"
   ]
  },
  {
   "cell_type": "code",
   "execution_count": 41,
   "metadata": {},
   "outputs": [
    {
     "name": "stdout",
     "output_type": "stream",
     "text": [
      "Model: \"sequential_9\"\n",
      "_________________________________________________________________\n",
      "Layer (type)                 Output Shape              Param #   \n",
      "=================================================================\n",
      "inception_v3 (Model)         (None, 8, 8, 2048)        21802784  \n",
      "_________________________________________________________________\n",
      "flatten_8 (Flatten)          (None, 131072)            0         \n",
      "_________________________________________________________________\n",
      "dense_12 (Dense)             (None, 1)                 131073    \n",
      "=================================================================\n",
      "Total params: 21,933,857\n",
      "Trainable params: 131,073\n",
      "Non-trainable params: 21,802,784\n",
      "_________________________________________________________________\n",
      "None\n"
     ]
    }
   ],
   "source": [
    "from keras.applications.inception_v3 import InceptionV3\n",
    "from keras.optimizers import Adam\n",
    "from keras.models import Sequential, Model\n",
    "from keras.layers.core import Dense, Flatten\n",
    "\n",
    "conv_base = keras.applications.inception_v3.InceptionV3(include_top=False, \n",
    "                                                        weights='imagenet', \n",
    "                                                        input_shape=(299, 299, 3))\n",
    "for layer in conv_base.layers[:-1]: layer.trainable = False # freeze pretrained layers\n",
    "\n",
    "model = Sequential()\n",
    "model.add(conv_base)\n",
    "model.add(Flatten())\n",
    "# model.add(Dense(256, activation='relu'))\n",
    "model.add(Dense(1, activation='sigmoid'))\n",
    "print(model.summary())\n",
    "\n",
    "optimizer = Adam(lr = 0.01)\n",
    "model.compile(loss=\"binary_crossentropy\",optimizer=optimizer, metrics=['accuracy'])"
   ]
  },
  {
   "cell_type": "code",
   "execution_count": null,
   "metadata": {},
   "outputs": [
    {
     "name": "stdout",
     "output_type": "stream",
     "text": [
      "Epoch 1/1\n",
      "3191/8427 [==========>...................] - ETA: 29:15 - loss: 38.7333 - accuracy: 0.6662"
     ]
    }
   ],
   "source": [
    "# train model\n",
    "model.fit_generator(train_generator, \n",
    "                    validation_data=val_generator)\n"
   ]
  },
  {
   "cell_type": "code",
   "execution_count": null,
   "metadata": {},
   "outputs": [],
   "source": []
  }
 ],
 "metadata": {
  "kernelspec": {
   "display_name": "testenv",
   "language": "python",
   "name": "testenv"
  },
  "language_info": {
   "codemirror_mode": {
    "name": "ipython",
    "version": 3
   },
   "file_extension": ".py",
   "mimetype": "text/x-python",
   "name": "python",
   "nbconvert_exporter": "python",
   "pygments_lexer": "ipython3",
   "version": "3.5.3"
  }
 },
 "nbformat": 4,
 "nbformat_minor": 4
}
