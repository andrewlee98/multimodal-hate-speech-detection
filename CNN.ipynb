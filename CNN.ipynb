{
 "cells": [
  {
   "cell_type": "code",
   "execution_count": 1,
   "metadata": {},
   "outputs": [
    {
     "name": "stderr",
     "output_type": "stream",
     "text": [
      "Using TensorFlow backend.\n"
     ]
    }
   ],
   "source": [
    "%matplotlib inline\n",
    "from matplotlib import pyplot as plt\n",
    "from tqdm import tqdm\n",
    "import numpy as np\n",
    "import os\n",
    "import pickle\n",
    "import json\n",
    "import cv2\n",
    "import re\n",
    "import keras"
   ]
  },
  {
   "cell_type": "code",
   "execution_count": 2,
   "metadata": {},
   "outputs": [
    {
     "data": {
      "text/plain": [
       "['/job:localhost/replica:0/task:0/device:GPU:0']"
      ]
     },
     "execution_count": 2,
     "metadata": {},
     "output_type": "execute_result"
    }
   ],
   "source": [
    "from keras import backend as K\n",
    "K.tensorflow_backend._get_available_gpus()"
   ]
  },
  {
   "cell_type": "code",
   "execution_count": 3,
   "metadata": {},
   "outputs": [
    {
     "name": "stdout",
     "output_type": "stream",
     "text": [
      "Found 134823 validated image filenames belonging to 2 classes.\n",
      "Found 5000 validated image filenames belonging to 2 classes.\n",
      "Found 10000 validated image filenames belonging to 2 classes.\n"
     ]
    }
   ],
   "source": [
    "# make image dataloader using flow_from_dataframe\n",
    "import pandas as pd\n",
    "from keras.preprocessing.image import ImageDataGenerator\n",
    "\n",
    "# load data to extract labels\n",
    "data_dir = 'mmhs150k/'\n",
    "tweet_dict = json.load(open(data_dir + 'MMHS150K_GT.json', 'r'))\n",
    "\n",
    "# read split id's and return data generator\n",
    "def get_data_dict(path):\n",
    "    \n",
    "    # build dictionary mapping id's to labels\n",
    "    data = {'id': [], 'label': []}\n",
    "    for id in open(data_dir + path, 'r').read().splitlines():\n",
    "\n",
    "        # get majority vote label\n",
    "        binary_labels = [1 if n > 0 else 0 for n in tweet_dict[id]['labels']]\n",
    "        label = 1 if sum(binary_labels)/len(tweet_dict[id]['labels']) > 0.5 else 0\n",
    "\n",
    "        # save to data dict\n",
    "        data['id'].append(id + '.jpg')\n",
    "        data['label'].append(str(label))\n",
    "\n",
    "    data_df = pd.DataFrame.from_dict(data) # get dataframe to flow from\n",
    "    \n",
    "    datagen = ImageDataGenerator(rescale=1./255,\n",
    "                                 samplewise_center=True,\n",
    "                                 samplewise_std_normalization=True,\n",
    "                                 width_shift_range=0.3,\n",
    "                                 height_shift_range=0.3,\n",
    "                                 shear_range=10,\n",
    "                                 horizontal_flip=True,\n",
    "                                 vertical_flip=True)\n",
    "    generator = datagen.flow_from_dataframe(\n",
    "        dataframe=data_df,\n",
    "        directory=data_dir + 'img_resized',\n",
    "        x_col='id',\n",
    "        y_col='label',\n",
    "        target_size=(299, 299),\n",
    "        batch_size=16,\n",
    "        class_mode='binary')\n",
    "    \n",
    "    return generator\n",
    "    \n",
    "train_generator = get_data_dict('splits/train_ids.txt')\n",
    "val_generator = get_data_dict('splits/val_ids.txt')\n",
    "test_generator = get_data_dict('splits/test_ids.txt')"
   ]
  },
  {
   "cell_type": "code",
   "execution_count": 4,
   "metadata": {},
   "outputs": [
    {
     "name": "stdout",
     "output_type": "stream",
     "text": [
      "Model: \"sequential_1\"\n",
      "_________________________________________________________________\n",
      "Layer (type)                 Output Shape              Param #   \n",
      "=================================================================\n",
      "inception_v3 (Model)         (None, 8, 8, 2048)        21802784  \n",
      "_________________________________________________________________\n",
      "flatten_1 (Flatten)          (None, 131072)            0         \n",
      "_________________________________________________________________\n",
      "dense_1 (Dense)              (None, 1)                 131073    \n",
      "=================================================================\n",
      "Total params: 21,933,857\n",
      "Trainable params: 131,073\n",
      "Non-trainable params: 21,802,784\n",
      "_________________________________________________________________\n",
      "None\n"
     ]
    }
   ],
   "source": [
    "from keras.applications.inception_v3 import InceptionV3\n",
    "from keras.optimizers import Adam\n",
    "from keras.models import Sequential, Model\n",
    "from keras.layers.core import Dense, Flatten\n",
    "\n",
    "conv_base = keras.applications.inception_v3.InceptionV3(include_top=False, \n",
    "                                                        weights='imagenet', \n",
    "                                                        input_shape=(299, 299, 3))\n",
    "for layer in conv_base.layers[:-1]: layer.trainable = False # freeze pretrained layers\n",
    "\n",
    "model = Sequential()\n",
    "model.add(conv_base)\n",
    "model.add(Flatten())\n",
    "# model.add(Dense(256, activation='relu'))\n",
    "model.add(Dense(1, activation='sigmoid'))\n",
    "print(model.summary())\n",
    "\n",
    "optimizer = Adam(lr = 0.01)\n",
    "model.compile(loss=\"binary_crossentropy\",optimizer=optimizer, metrics=['accuracy'])"
   ]
  },
  {
   "cell_type": "code",
   "execution_count": 5,
   "metadata": {},
   "outputs": [
    {
     "name": "stdout",
     "output_type": "stream",
     "text": [
      "Epoch 1/3\n",
      "8427/8427 [==============================] - 3676s 436ms/step - loss: 45.2725 - accuracy: 0.6645 - val_loss: 98.8340 - val_accuracy: 0.5120\n",
      "Epoch 2/3\n",
      "8427/8427 [==============================] - 3596s 427ms/step - loss: 52.4056 - accuracy: 0.6637 - val_loss: 428.2014 - val_accuracy: 0.5034\n",
      "Epoch 3/3\n",
      "8427/8427 [==============================] - 3575s 424ms/step - loss: 54.7648 - accuracy: 0.6639 - val_loss: 222.3947 - val_accuracy: 0.4954\n"
     ]
    }
   ],
   "source": [
    "# train model\n",
    "history = model.fit_generator(train_generator, \n",
    "                    validation_data=val_generator,\n",
    "                    shuffle=True,\n",
    "                    epochs=3)\n"
   ]
  },
  {
   "cell_type": "code",
   "execution_count": 15,
   "metadata": {},
   "outputs": [
    {
     "name": "stdout",
     "output_type": "stream",
     "text": [
      "Test AUROC: 0.50256992\n",
      "625/625 [==============================] - 267s 427ms/step\n",
      "Test acc: 0.503600001335144\n",
      "Test F1: 0.13934993084370678\n",
      "Test Precision: 0.514030612244898\n",
      "Test Recall: 0.0806\n"
     ]
    }
   ],
   "source": [
    "# test\n",
    "from sklearn.metrics import roc_auc_score, f1_score, precision_score, recall_score\n",
    "\n",
    "y_test = test_generator.classes\n",
    "\n",
    "# get AUROC\n",
    "preds = model.predict(test_generator)\n",
    "print('Test AUROC:', roc_auc_score(y_test, preds))\n",
    "\n",
    "# get loss and acc\n",
    "print('Test acc:', model.evaluate(test_generator)[1])\n",
    "\n",
    "# get F1\n",
    "preds[preds>0.5] = 1\n",
    "preds[preds<=0.5] = 0\n",
    "preds_bin = preds\n",
    "print('Test F1:', f1_score(y_test, preds_bin, zero_division=1))\n",
    "print('Test Precision:', precision_score(y_test, preds_bin, zero_division=1))\n",
    "# print('Test Recall:', recall_score(y_test, preds_bin, zero_division=1))"
   ]
  },
  {
   "cell_type": "code",
   "execution_count": 20,
   "metadata": {},
   "outputs": [
    {
     "name": "stdout",
     "output_type": "stream",
     "text": [
      "0.21855321421419194\n",
      "0.4998\n",
      "0.5\n"
     ]
    }
   ],
   "source": [
    "# see fraction of positive examples\n",
    "print(sum(train_generator.classes)/len(train_generator.classes))\n",
    "print(sum(val_generator.classes)/len(val_generator.classes))\n",
    "print(sum(test_generator.classes)/len(test_generator.classes))"
   ]
  },
  {
   "cell_type": "code",
   "execution_count": null,
   "metadata": {},
   "outputs": [],
   "source": []
  },
  {
   "cell_type": "code",
   "execution_count": null,
   "metadata": {},
   "outputs": [],
   "source": []
  }
 ],
 "metadata": {
  "kernelspec": {
   "display_name": "testenv",
   "language": "python",
   "name": "testenv"
  },
  "language_info": {
   "codemirror_mode": {
    "name": "ipython",
    "version": 3
   },
   "file_extension": ".py",
   "mimetype": "text/x-python",
   "name": "python",
   "nbconvert_exporter": "python",
   "pygments_lexer": "ipython3",
   "version": "3.5.3"
  }
 },
 "nbformat": 4,
 "nbformat_minor": 4
}
